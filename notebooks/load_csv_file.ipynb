{
 "cells": [
  {
   "cell_type": "markdown",
   "metadata": {},
   "source": [
    "In this file I read the CSV file given to load in a table called **raw_data** of **etl_workshop_first**."
   ]
  },
  {
   "cell_type": "code",
   "execution_count": 1,
   "metadata": {
    "vscode": {
     "languageId": "bat"
    }
   },
   "outputs": [
    {
     "name": "stdout",
     "output_type": "stream",
     "text": [
      "Requirement already satisfied: psycopg2-binary in c:\\python312\\lib\\site-packages (from -r code/requirements.txt (line 1)) (2.9.9)\n",
      "Requirement already satisfied: sqlalchemy in c:\\python312\\lib\\site-packages (from -r code/requirements.txt (line 2)) (2.0.25)\n",
      "Requirement already satisfied: pyarrow in c:\\python312\\lib\\site-packages (from -r code/requirements.txt (line 3)) (15.0.0)\n",
      "Requirement already satisfied: pandas in c:\\python312\\lib\\site-packages (from -r code/requirements.txt (line 4)) (2.2.0)\n",
      "Requirement already satisfied: typing-extensions>=4.6.0 in c:\\python312\\lib\\site-packages (from sqlalchemy->-r code/requirements.txt (line 2)) (4.9.0)\n",
      "Requirement already satisfied: greenlet!=0.4.17 in c:\\python312\\lib\\site-packages (from sqlalchemy->-r code/requirements.txt (line 2)) (3.0.3)\n",
      "Requirement already satisfied: numpy<2,>=1.16.6 in c:\\python312\\lib\\site-packages (from pyarrow->-r code/requirements.txt (line 3)) (1.26.3)\n",
      "Requirement already satisfied: python-dateutil>=2.8.2 in c:\\users\\david\\appdata\\roaming\\python\\python312\\site-packages (from pandas->-r code/requirements.txt (line 4)) (2.8.2)\n",
      "Requirement already satisfied: pytz>=2020.1 in c:\\python312\\lib\\site-packages (from pandas->-r code/requirements.txt (line 4)) (2024.1)\n",
      "Requirement already satisfied: tzdata>=2022.7 in c:\\python312\\lib\\site-packages (from pandas->-r code/requirements.txt (line 4)) (2023.4)\n",
      "Requirement already satisfied: six>=1.5 in c:\\users\\david\\appdata\\roaming\\python\\python312\\site-packages (from python-dateutil>=2.8.2->pandas->-r code/requirements.txt (line 4)) (1.16.0)\n",
      "Note: you may need to restart the kernel to use updated packages.\n"
     ]
    },
    {
     "name": "stderr",
     "output_type": "stream",
     "text": [
      "\n",
      "[notice] A new release of pip is available: 23.2.1 -> 23.3.2\n",
      "[notice] To update, run: python.exe -m pip install --upgrade pip\n"
     ]
    }
   ],
   "source": [
    "pip install -r code/requirements.txt"
   ]
  },
  {
   "cell_type": "markdown",
   "metadata": {},
   "source": [
    "Import libraries:"
   ]
  },
  {
   "cell_type": "code",
   "execution_count": 5,
   "metadata": {},
   "outputs": [],
   "source": [
    "import pandas\n",
    "from sqlalchemy import create_engine\n",
    "\n",
    "from code.connect_database import Connection_Postgres"
   ]
  },
  {
   "cell_type": "markdown",
   "metadata": {},
   "source": [
    "Information about CSV file to load:"
   ]
  },
  {
   "cell_type": "code",
   "execution_count": 3,
   "metadata": {},
   "outputs": [],
   "source": [
    "location_file = './data/candidates.csv'\n",
    "raw_table_database = 'raw_applicant'\n",
    "names_file = ['first_name', 'last_name', 'email', 'applicant_date', 'country', 'experience_year', 'seniority', 'technology', 'code_challenge_score', 'technical_interview_score']"
   ]
  },
  {
   "cell_type": "markdown",
   "metadata": {},
   "source": [
    "Create connection:"
   ]
  },
  {
   "cell_type": "code",
   "execution_count": 4,
   "metadata": {},
   "outputs": [],
   "source": [
    "# Create connection with PostgreSQL\n",
    "connection = Connection_Postgres()\n",
    "# Create connection with engine\n",
    "connection_string = f\"postgresql://{connection.connection_config['user']}:{connection.connection_config['password']}@{connection.connection_config['host']}:{connection.connection_config['port']}/{connection.connection_config['database']}\"\n",
    "postgres_engine = create_engine(connection_string)\n",
    "# Read CSV file\n",
    "dataframe = pandas.read_csv(location_file, names = names_file, delimiter=';', header=0)\n",
    "# Reorder values\n",
    "dataframe.sort_values(by=['first_name', 'last_name', 'applicant_date', 'country'], inplace=True)\n",
    "# Load data obtained to PostgreSQL\n",
    "dataframe.to_sql(raw_table_database, postgres_engine, if_exists='replace', index=False)\n",
    "connection.log('Data loaded to {}: {} rows - {} columns.' .format(connection.connection_config['database'], dataframe.shape[0], dataframe.shape[1]))\n",
    "# Close connection\n",
    "connection.close_connection_database()"
   ]
  },
  {
   "cell_type": "markdown",
   "metadata": {},
   "source": [
    "Data loaded:\n",
    "\n",
    "![Evidence of loading][def]\n",
    "\n",
    "[def]: figures/raw_applicant_data.png"
   ]
  }
 ],
 "metadata": {
  "kernelspec": {
   "display_name": "Python 3",
   "language": "python",
   "name": "python3"
  },
  "language_info": {
   "codemirror_mode": {
    "name": "ipython",
    "version": 3
   },
   "file_extension": ".py",
   "mimetype": "text/x-python",
   "name": "python",
   "nbconvert_exporter": "python",
   "pygments_lexer": "ipython3",
   "version": "3.12.1"
  }
 },
 "nbformat": 4,
 "nbformat_minor": 2
}
