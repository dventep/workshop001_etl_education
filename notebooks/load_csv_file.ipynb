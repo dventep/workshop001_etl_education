{
 "cells": [
  {
   "cell_type": "markdown",
   "metadata": {},
   "source": [
    "# Load CSV file to SQL structure\n",
    "\n",
    "In this file, we perform the proccess of reading and loading CSV file obtained for a candidate's job test using Python Kernel in a venv.\n",
    "\n",
    "In this process, the following will be carried out:\n",
    "\n",
    "1. Connection with the **etl_workshop_first** database hosted in a **Local server** or in **AWS RDS server** depending on the credendials filename assignment (_credentials.ini_ filename for local or *aws_credentials.ini* filename for cloud). If the database doesn't exists, it will be created.\n",
    "\n",
    "2. Creation of the database's structure, **raw_applicant** and **applicant** tables. As the proccess is running, the tables will be reset if they already exists.\n",
    "\n",
    "3. Reading of CSV file.\n",
    "\n",
    "4. Loading of data to **raw_applicant** table in **etl_workshop_first** database."
   ]
  },
  {
   "cell_type": "markdown",
   "metadata": {},
   "source": [
    "---\n",
    "## Install requirement libraries"
   ]
  },
  {
   "cell_type": "code",
   "execution_count": null,
   "metadata": {
    "vscode": {
     "languageId": "bat"
    }
   },
   "outputs": [],
   "source": [
    "pip install -r ../code/config/requirements.txt"
   ]
  },
  {
   "cell_type": "markdown",
   "metadata": {},
   "source": [
    "---\n",
    "## Proccess"
   ]
  },
  {
   "cell_type": "markdown",
   "metadata": {},
   "source": [
    "Import libraries:"
   ]
  },
  {
   "cell_type": "code",
   "execution_count": 2,
   "metadata": {},
   "outputs": [],
   "source": [
    "import pandas as pd\n",
    "import importlib.util\n",
    "\n",
    "spec = importlib.util.spec_from_file_location(\"connect_database\", f\"../code/connect_database.py\")\n",
    "connect_database = importlib.util.module_from_spec(spec)\n",
    "spec.loader.exec_module(connect_database)"
   ]
  },
  {
   "cell_type": "markdown",
   "metadata": {},
   "source": [
    "Information about CSV file to load:"
   ]
  },
  {
   "cell_type": "code",
   "execution_count": 3,
   "metadata": {},
   "outputs": [],
   "source": [
    "location_file = '../data/candidates.csv'\n",
    "raw_table_database = 'raw_applicant'\n",
    "names_file = ['first_name', 'last_name', 'email', 'applicant_date', 'country', 'experience_year', 'seniority', 'technology', 'code_challenge_score', 'technical_interview_score']"
   ]
  },
  {
   "cell_type": "markdown",
   "metadata": {},
   "source": [
    "Create connection:"
   ]
  },
  {
   "cell_type": "code",
   "execution_count": 4,
   "metadata": {},
   "outputs": [],
   "source": [
    "connection = connect_database.ConnectionPostgres()\n",
    "connection.make_tables()"
   ]
  },
  {
   "cell_type": "markdown",
   "metadata": {},
   "source": [
    "Let's read CSV file and create the dataframe"
   ]
  },
  {
   "cell_type": "code",
   "execution_count": 5,
   "metadata": {},
   "outputs": [],
   "source": [
    "raw_data_dataframe = pd.read_csv(location_file, names = names_file, delimiter=';', header=0)\n",
    "raw_data_dataframe.sort_values(by=['first_name', 'last_name', 'applicant_date', 'country'], inplace=True)\n",
    "raw_data_dataframe.index += 1\n",
    "raw_data_dataframe.reset_index(inplace=True)\n",
    "raw_data_dataframe.rename(columns={'index': 'id'}, inplace=True)"
   ]
  },
  {
   "cell_type": "markdown",
   "metadata": {},
   "source": [
    "Send data for PostgreSQL:"
   ]
  },
  {
   "cell_type": "code",
   "execution_count": 6,
   "metadata": {},
   "outputs": [],
   "source": [
    "raw_data_dataframe.to_sql(raw_table_database, connection.engine, if_exists='replace', index=False)\n",
    "connection.log('Data loaded to {}: {} rows - {} columns.' .format(connection.connection_config['database'], raw_data_dataframe.shape[0], raw_data_dataframe.shape[1]))\n",
    "\n",
    "connection.close_connection()"
   ]
  },
  {
   "cell_type": "markdown",
   "metadata": {},
   "source": [
    "Data loaded:\n",
    "\n",
    "![Raw applicant data](https://gist.github.com/assets/92474551/35a5912d-65dd-4680-aca3-d6b7e0b240f3)"
   ]
  }
 ],
 "metadata": {
  "kernelspec": {
   "display_name": "Python 3",
   "language": "python",
   "name": "python3"
  },
  "language_info": {
   "codemirror_mode": {
    "name": "ipython",
    "version": 3
   },
   "file_extension": ".py",
   "mimetype": "text/x-python",
   "name": "python",
   "nbconvert_exporter": "python",
   "pygments_lexer": "ipython3",
   "version": "3.10.3"
  }
 },
 "nbformat": 4,
 "nbformat_minor": 2
}
