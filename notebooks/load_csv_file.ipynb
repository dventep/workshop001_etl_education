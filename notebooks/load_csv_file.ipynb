{
 "cells": [
  {
   "cell_type": "markdown",
   "metadata": {},
   "source": [
    "# Load CSV file to SQL structure\n",
    "\n",
    "In this file, I perform the proccess of reading and loading CSV file obtained for a laboral test using Python Kernel in a venv.\n",
    "\n",
    "In this process, the following will be carried out:\n",
    "\n",
    "1. Connection with the **etl_workshop_first** database hosted in a **AWS RDS** server. If it doesn't exists, it will be created.\n",
    "\n",
    "2. Creation of the database's structure, **raw_applicant** and **applicant** tables. As the proccess is running, the tables will be reset if they already exists.\n",
    "\n",
    "3. Reading of CSV file.\n",
    "\n",
    "4. Loading of data to **raw_applicant** table in **etl_workshop_first** database."
   ]
  },
  {
   "cell_type": "markdown",
   "metadata": {},
   "source": [
    "---\n",
    "## Install requirement libraries"
   ]
  },
  {
   "cell_type": "code",
   "execution_count": 1,
   "metadata": {
    "vscode": {
     "languageId": "bat"
    }
   },
   "outputs": [
    {
     "name": "stdout",
     "output_type": "stream",
     "text": [
      "Requirement already satisfied: importlib in e:\\uao no sincronizada\\5° semestre\\etl\\corte 1\\workshop001\\workshop001_etl_education\\venv\\lib\\site-packages (from -r ../code/config/requirements.txt (line 1)) (1.0.4)\n",
      "Requirement already satisfied: ipykernel in e:\\uao no sincronizada\\5° semestre\\etl\\corte 1\\workshop001\\workshop001_etl_education\\venv\\lib\\site-packages (from -r ../code/config/requirements.txt (line 2)) (6.29.2)\n",
      "Requirement already satisfied: matplotlib in e:\\uao no sincronizada\\5° semestre\\etl\\corte 1\\workshop001\\workshop001_etl_education\\venv\\lib\\site-packages (from -r ../code/config/requirements.txt (line 3)) (3.8.2)\n",
      "Requirement already satisfied: numpy in e:\\uao no sincronizada\\5° semestre\\etl\\corte 1\\workshop001\\workshop001_etl_education\\venv\\lib\\site-packages (from -r ../code/config/requirements.txt (line 4)) (1.26.4)\n",
      "Requirement already satisfied: pandas in e:\\uao no sincronizada\\5° semestre\\etl\\corte 1\\workshop001\\workshop001_etl_education\\venv\\lib\\site-packages (from -r ../code/config/requirements.txt (line 5)) (2.2.0)\n",
      "Requirement already satisfied: pip in e:\\uao no sincronizada\\5° semestre\\etl\\corte 1\\workshop001\\workshop001_etl_education\\venv\\lib\\site-packages (from -r ../code/config/requirements.txt (line 6)) (22.0.4)\n",
      "Requirement already satisfied: pip-audit in e:\\uao no sincronizada\\5° semestre\\etl\\corte 1\\workshop001\\workshop001_etl_education\\venv\\lib\\site-packages (from -r ../code/config/requirements.txt (line 7)) (2.7.0)\n",
      "Requirement already satisfied: pre-commit in e:\\uao no sincronizada\\5° semestre\\etl\\corte 1\\workshop001\\workshop001_etl_education\\venv\\lib\\site-packages (from -r ../code/config/requirements.txt (line 8)) (3.6.0)\n",
      "Requirement already satisfied: psycopg2-binary in e:\\uao no sincronizada\\5° semestre\\etl\\corte 1\\workshop001\\workshop001_etl_education\\venv\\lib\\site-packages (from -r ../code/config/requirements.txt (line 9)) (2.9.9)\n",
      "Requirement already satisfied: pyarrow in e:\\uao no sincronizada\\5° semestre\\etl\\corte 1\\workshop001\\workshop001_etl_education\\venv\\lib\\site-packages (from -r ../code/config/requirements.txt (line 10)) (15.0.0)\n",
      "Requirement already satisfied: pylint in e:\\uao no sincronizada\\5° semestre\\etl\\corte 1\\workshop001\\workshop001_etl_education\\venv\\lib\\site-packages (from -r ../code/config/requirements.txt (line 11)) (3.0.3)\n",
      "Requirement already satisfied: sqlalchemy in e:\\uao no sincronizada\\5° semestre\\etl\\corte 1\\workshop001\\workshop001_etl_education\\venv\\lib\\site-packages (from -r ../code/config/requirements.txt (line 12)) (2.0.25)\n",
      "Requirement already satisfied: sqlalchemy-utils in e:\\uao no sincronizada\\5° semestre\\etl\\corte 1\\workshop001\\workshop001_etl_education\\venv\\lib\\site-packages (from -r ../code/config/requirements.txt (line 13)) (0.41.1)\n",
      "Requirement already satisfied: ipython>=7.23.1 in e:\\uao no sincronizada\\5° semestre\\etl\\corte 1\\workshop001\\workshop001_etl_education\\venv\\lib\\site-packages (from ipykernel->-r ../code/config/requirements.txt (line 2)) (8.21.0)\n",
      "Requirement already satisfied: packaging in e:\\uao no sincronizada\\5° semestre\\etl\\corte 1\\workshop001\\workshop001_etl_education\\venv\\lib\\site-packages (from ipykernel->-r ../code/config/requirements.txt (line 2)) (23.2)\n",
      "Requirement already satisfied: nest-asyncio in e:\\uao no sincronizada\\5° semestre\\etl\\corte 1\\workshop001\\workshop001_etl_education\\venv\\lib\\site-packages (from ipykernel->-r ../code/config/requirements.txt (line 2)) (1.6.0)\n",
      "Requirement already satisfied: tornado>=6.1 in e:\\uao no sincronizada\\5° semestre\\etl\\corte 1\\workshop001\\workshop001_etl_education\\venv\\lib\\site-packages (from ipykernel->-r ../code/config/requirements.txt (line 2)) (6.4)\n",
      "Requirement already satisfied: debugpy>=1.6.5 in e:\\uao no sincronizada\\5° semestre\\etl\\corte 1\\workshop001\\workshop001_etl_education\\venv\\lib\\site-packages (from ipykernel->-r ../code/config/requirements.txt (line 2)) (1.8.1)\n",
      "Requirement already satisfied: matplotlib-inline>=0.1 in e:\\uao no sincronizada\\5° semestre\\etl\\corte 1\\workshop001\\workshop001_etl_education\\venv\\lib\\site-packages (from ipykernel->-r ../code/config/requirements.txt (line 2)) (0.1.6)\n",
      "Requirement already satisfied: jupyter-client>=6.1.12 in e:\\uao no sincronizada\\5° semestre\\etl\\corte 1\\workshop001\\workshop001_etl_education\\venv\\lib\\site-packages (from ipykernel->-r ../code/config/requirements.txt (line 2)) (8.6.0)\n",
      "Requirement already satisfied: jupyter-core!=5.0.*,>=4.12 in e:\\uao no sincronizada\\5° semestre\\etl\\corte 1\\workshop001\\workshop001_etl_education\\venv\\lib\\site-packages (from ipykernel->-r ../code/config/requirements.txt (line 2)) (5.7.1)\n",
      "Requirement already satisfied: pyzmq>=24 in e:\\uao no sincronizada\\5° semestre\\etl\\corte 1\\workshop001\\workshop001_etl_education\\venv\\lib\\site-packages (from ipykernel->-r ../code/config/requirements.txt (line 2)) (25.1.2)\n",
      "Requirement already satisfied: psutil in e:\\uao no sincronizada\\5° semestre\\etl\\corte 1\\workshop001\\workshop001_etl_education\\venv\\lib\\site-packages (from ipykernel->-r ../code/config/requirements.txt (line 2)) (5.9.8)\n",
      "Requirement already satisfied: traitlets>=5.4.0 in e:\\uao no sincronizada\\5° semestre\\etl\\corte 1\\workshop001\\workshop001_etl_education\\venv\\lib\\site-packages (from ipykernel->-r ../code/config/requirements.txt (line 2)) (5.14.1)\n",
      "Requirement already satisfied: comm>=0.1.1 in e:\\uao no sincronizada\\5° semestre\\etl\\corte 1\\workshop001\\workshop001_etl_education\\venv\\lib\\site-packages (from ipykernel->-r ../code/config/requirements.txt (line 2)) (0.2.1)\n",
      "Requirement already satisfied: python-dateutil>=2.7 in e:\\uao no sincronizada\\5° semestre\\etl\\corte 1\\workshop001\\workshop001_etl_education\\venv\\lib\\site-packages (from matplotlib->-r ../code/config/requirements.txt (line 3)) (2.8.2)\n",
      "Requirement already satisfied: kiwisolver>=1.3.1 in e:\\uao no sincronizada\\5° semestre\\etl\\corte 1\\workshop001\\workshop001_etl_education\\venv\\lib\\site-packages (from matplotlib->-r ../code/config/requirements.txt (line 3)) (1.4.5)\n",
      "Requirement already satisfied: pillow>=8 in e:\\uao no sincronizada\\5° semestre\\etl\\corte 1\\workshop001\\workshop001_etl_education\\venv\\lib\\site-packages (from matplotlib->-r ../code/config/requirements.txt (line 3)) (10.2.0)\n",
      "Requirement already satisfied: pyparsing>=2.3.1 in e:\\uao no sincronizada\\5° semestre\\etl\\corte 1\\workshop001\\workshop001_etl_education\\venv\\lib\\site-packages (from matplotlib->-r ../code/config/requirements.txt (line 3)) (3.1.1)\n",
      "Requirement already satisfied: cycler>=0.10 in e:\\uao no sincronizada\\5° semestre\\etl\\corte 1\\workshop001\\workshop001_etl_education\\venv\\lib\\site-packages (from matplotlib->-r ../code/config/requirements.txt (line 3)) (0.12.1)\n",
      "Requirement already satisfied: contourpy>=1.0.1 in e:\\uao no sincronizada\\5° semestre\\etl\\corte 1\\workshop001\\workshop001_etl_education\\venv\\lib\\site-packages (from matplotlib->-r ../code/config/requirements.txt (line 3)) (1.2.0)\n",
      "Requirement already satisfied: fonttools>=4.22.0 in e:\\uao no sincronizada\\5° semestre\\etl\\corte 1\\workshop001\\workshop001_etl_education\\venv\\lib\\site-packages (from matplotlib->-r ../code/config/requirements.txt (line 3)) (4.48.1)\n",
      "Requirement already satisfied: tzdata>=2022.7 in e:\\uao no sincronizada\\5° semestre\\etl\\corte 1\\workshop001\\workshop001_etl_education\\venv\\lib\\site-packages (from pandas->-r ../code/config/requirements.txt (line 5)) (2023.4)\n",
      "Requirement already satisfied: pytz>=2020.1 in e:\\uao no sincronizada\\5° semestre\\etl\\corte 1\\workshop001\\workshop001_etl_education\\venv\\lib\\site-packages (from pandas->-r ../code/config/requirements.txt (line 5)) (2024.1)\n",
      "Requirement already satisfied: cyclonedx-python-lib<7,>=5 in e:\\uao no sincronizada\\5° semestre\\etl\\corte 1\\workshop001\\workshop001_etl_education\\venv\\lib\\site-packages (from pip-audit->-r ../code/config/requirements.txt (line 7)) (6.4.1)\n",
      "Requirement already satisfied: pip-requirements-parser>=32.0.0 in e:\\uao no sincronizada\\5° semestre\\etl\\corte 1\\workshop001\\workshop001_etl_education\\venv\\lib\\site-packages (from pip-audit->-r ../code/config/requirements.txt (line 7)) (32.0.1)\n",
      "Requirement already satisfied: rich>=12.4 in e:\\uao no sincronizada\\5° semestre\\etl\\corte 1\\workshop001\\workshop001_etl_education\\venv\\lib\\site-packages (from pip-audit->-r ../code/config/requirements.txt (line 7)) (13.7.0)\n",
      "Requirement already satisfied: html5lib>=1.1 in e:\\uao no sincronizada\\5° semestre\\etl\\corte 1\\workshop001\\workshop001_etl_education\\venv\\lib\\site-packages (from pip-audit->-r ../code/config/requirements.txt (line 7)) (1.1)\n",
      "Requirement already satisfied: pip-api>=0.0.28 in e:\\uao no sincronizada\\5° semestre\\etl\\corte 1\\workshop001\\workshop001_etl_education\\venv\\lib\\site-packages (from pip-audit->-r ../code/config/requirements.txt (line 7)) (0.0.30)\n",
      "Requirement already satisfied: toml>=0.10 in e:\\uao no sincronizada\\5° semestre\\etl\\corte 1\\workshop001\\workshop001_etl_education\\venv\\lib\\site-packages (from pip-audit->-r ../code/config/requirements.txt (line 7)) (0.10.2)\n",
      "Requirement already satisfied: requests>=2.31.0 in e:\\uao no sincronizada\\5° semestre\\etl\\corte 1\\workshop001\\workshop001_etl_education\\venv\\lib\\site-packages (from pip-audit->-r ../code/config/requirements.txt (line 7)) (2.31.0)\n",
      "Requirement already satisfied: CacheControl[filecache]>=0.13.0 in e:\\uao no sincronizada\\5° semestre\\etl\\corte 1\\workshop001\\workshop001_etl_education\\venv\\lib\\site-packages (from pip-audit->-r ../code/config/requirements.txt (line 7)) (0.14.0)\n",
      "Requirement already satisfied: pyyaml>=5.1 in e:\\uao no sincronizada\\5° semestre\\etl\\corte 1\\workshop001\\workshop001_etl_education\\venv\\lib\\site-packages (from pre-commit->-r ../code/config/requirements.txt (line 8)) (6.0.1)\n",
      "Requirement already satisfied: cfgv>=2.0.0 in e:\\uao no sincronizada\\5° semestre\\etl\\corte 1\\workshop001\\workshop001_etl_education\\venv\\lib\\site-packages (from pre-commit->-r ../code/config/requirements.txt (line 8)) (3.4.0)\n",
      "Requirement already satisfied: identify>=1.0.0 in e:\\uao no sincronizada\\5° semestre\\etl\\corte 1\\workshop001\\workshop001_etl_education\\venv\\lib\\site-packages (from pre-commit->-r ../code/config/requirements.txt (line 8)) (2.5.33)\n",
      "Requirement already satisfied: virtualenv>=20.10.0 in e:\\uao no sincronizada\\5° semestre\\etl\\corte 1\\workshop001\\workshop001_etl_education\\venv\\lib\\site-packages (from pre-commit->-r ../code/config/requirements.txt (line 8)) (20.25.0)\n",
      "Requirement already satisfied: nodeenv>=0.11.1 in e:\\uao no sincronizada\\5° semestre\\etl\\corte 1\\workshop001\\workshop001_etl_education\\venv\\lib\\site-packages (from pre-commit->-r ../code/config/requirements.txt (line 8)) (1.8.0)\n",
      "Requirement already satisfied: colorama>=0.4.5 in e:\\uao no sincronizada\\5° semestre\\etl\\corte 1\\workshop001\\workshop001_etl_education\\venv\\lib\\site-packages (from pylint->-r ../code/config/requirements.txt (line 11)) (0.4.6)\n",
      "Requirement already satisfied: mccabe<0.8,>=0.6 in e:\\uao no sincronizada\\5° semestre\\etl\\corte 1\\workshop001\\workshop001_etl_education\\venv\\lib\\site-packages (from pylint->-r ../code/config/requirements.txt (line 11)) (0.7.0)\n",
      "Requirement already satisfied: platformdirs>=2.2.0 in e:\\uao no sincronizada\\5° semestre\\etl\\corte 1\\workshop001\\workshop001_etl_education\\venv\\lib\\site-packages (from pylint->-r ../code/config/requirements.txt (line 11)) (4.2.0)\n",
      "Requirement already satisfied: tomlkit>=0.10.1 in e:\\uao no sincronizada\\5° semestre\\etl\\corte 1\\workshop001\\workshop001_etl_education\\venv\\lib\\site-packages (from pylint->-r ../code/config/requirements.txt (line 11)) (0.12.3)\n",
      "Requirement already satisfied: astroid<=3.1.0-dev0,>=3.0.1 in e:\\uao no sincronizada\\5° semestre\\etl\\corte 1\\workshop001\\workshop001_etl_education\\venv\\lib\\site-packages (from pylint->-r ../code/config/requirements.txt (line 11)) (3.0.3)\n",
      "Requirement already satisfied: isort!=5.13.0,<6,>=4.2.5 in e:\\uao no sincronizada\\5° semestre\\etl\\corte 1\\workshop001\\workshop001_etl_education\\venv\\lib\\site-packages (from pylint->-r ../code/config/requirements.txt (line 11)) (5.13.2)\n",
      "Requirement already satisfied: tomli>=1.1.0 in e:\\uao no sincronizada\\5° semestre\\etl\\corte 1\\workshop001\\workshop001_etl_education\\venv\\lib\\site-packages (from pylint->-r ../code/config/requirements.txt (line 11)) (2.0.1)\n",
      "Requirement already satisfied: dill>=0.2 in e:\\uao no sincronizada\\5° semestre\\etl\\corte 1\\workshop001\\workshop001_etl_education\\venv\\lib\\site-packages (from pylint->-r ../code/config/requirements.txt (line 11)) (0.3.8)\n",
      "Requirement already satisfied: typing-extensions>=4.6.0 in e:\\uao no sincronizada\\5° semestre\\etl\\corte 1\\workshop001\\workshop001_etl_education\\venv\\lib\\site-packages (from sqlalchemy->-r ../code/config/requirements.txt (line 12)) (4.9.0)\n",
      "Requirement already satisfied: greenlet!=0.4.17 in e:\\uao no sincronizada\\5° semestre\\etl\\corte 1\\workshop001\\workshop001_etl_education\\venv\\lib\\site-packages (from sqlalchemy->-r ../code/config/requirements.txt (line 12)) (3.0.3)\n",
      "Requirement already satisfied: msgpack<2.0.0,>=0.5.2 in e:\\uao no sincronizada\\5° semestre\\etl\\corte 1\\workshop001\\workshop001_etl_education\\venv\\lib\\site-packages (from CacheControl[filecache]>=0.13.0->pip-audit->-r ../code/config/requirements.txt (line 7)) (1.0.7)\n",
      "Requirement already satisfied: filelock>=3.8.0 in e:\\uao no sincronizada\\5° semestre\\etl\\corte 1\\workshop001\\workshop001_etl_education\\venv\\lib\\site-packages (from CacheControl[filecache]>=0.13.0->pip-audit->-r ../code/config/requirements.txt (line 7)) (3.13.1)\n",
      "Requirement already satisfied: packageurl-python<2,>=0.11 in e:\\uao no sincronizada\\5° semestre\\etl\\corte 1\\workshop001\\workshop001_etl_education\\venv\\lib\\site-packages (from cyclonedx-python-lib<7,>=5->pip-audit->-r ../code/config/requirements.txt (line 7)) (0.13.4)\n",
      "Requirement already satisfied: license-expression<31,>=30 in e:\\uao no sincronizada\\5° semestre\\etl\\corte 1\\workshop001\\workshop001_etl_education\\venv\\lib\\site-packages (from cyclonedx-python-lib<7,>=5->pip-audit->-r ../code/config/requirements.txt (line 7)) (30.2.0)\n",
      "Requirement already satisfied: py-serializable<2,>=0.16 in e:\\uao no sincronizada\\5° semestre\\etl\\corte 1\\workshop001\\workshop001_etl_education\\venv\\lib\\site-packages (from cyclonedx-python-lib<7,>=5->pip-audit->-r ../code/config/requirements.txt (line 7)) (1.0.0)\n",
      "Requirement already satisfied: sortedcontainers<3.0.0,>=2.4.0 in e:\\uao no sincronizada\\5° semestre\\etl\\corte 1\\workshop001\\workshop001_etl_education\\venv\\lib\\site-packages (from cyclonedx-python-lib<7,>=5->pip-audit->-r ../code/config/requirements.txt (line 7)) (2.4.0)\n",
      "Requirement already satisfied: webencodings in e:\\uao no sincronizada\\5° semestre\\etl\\corte 1\\workshop001\\workshop001_etl_education\\venv\\lib\\site-packages (from html5lib>=1.1->pip-audit->-r ../code/config/requirements.txt (line 7)) (0.5.1)\n",
      "Requirement already satisfied: six>=1.9 in e:\\uao no sincronizada\\5° semestre\\etl\\corte 1\\workshop001\\workshop001_etl_education\\venv\\lib\\site-packages (from html5lib>=1.1->pip-audit->-r ../code/config/requirements.txt (line 7)) (1.16.0)\n",
      "Requirement already satisfied: pygments>=2.4.0 in e:\\uao no sincronizada\\5° semestre\\etl\\corte 1\\workshop001\\workshop001_etl_education\\venv\\lib\\site-packages (from ipython>=7.23.1->ipykernel->-r ../code/config/requirements.txt (line 2)) (2.17.2)\n",
      "Requirement already satisfied: decorator in e:\\uao no sincronizada\\5° semestre\\etl\\corte 1\\workshop001\\workshop001_etl_education\\venv\\lib\\site-packages (from ipython>=7.23.1->ipykernel->-r ../code/config/requirements.txt (line 2)) (5.1.1)\n",
      "Requirement already satisfied: prompt-toolkit<3.1.0,>=3.0.41 in e:\\uao no sincronizada\\5° semestre\\etl\\corte 1\\workshop001\\workshop001_etl_education\\venv\\lib\\site-packages (from ipython>=7.23.1->ipykernel->-r ../code/config/requirements.txt (line 2)) (3.0.43)\n",
      "Requirement already satisfied: exceptiongroup in e:\\uao no sincronizada\\5° semestre\\etl\\corte 1\\workshop001\\workshop001_etl_education\\venv\\lib\\site-packages (from ipython>=7.23.1->ipykernel->-r ../code/config/requirements.txt (line 2)) (1.2.0)\n",
      "Requirement already satisfied: stack-data in e:\\uao no sincronizada\\5° semestre\\etl\\corte 1\\workshop001\\workshop001_etl_education\\venv\\lib\\site-packages (from ipython>=7.23.1->ipykernel->-r ../code/config/requirements.txt (line 2)) (0.6.3)\n",
      "Requirement already satisfied: jedi>=0.16 in e:\\uao no sincronizada\\5° semestre\\etl\\corte 1\\workshop001\\workshop001_etl_education\\venv\\lib\\site-packages (from ipython>=7.23.1->ipykernel->-r ../code/config/requirements.txt (line 2)) (0.19.1)\n",
      "Requirement already satisfied: pywin32>=300 in e:\\uao no sincronizada\\5° semestre\\etl\\corte 1\\workshop001\\workshop001_etl_education\\venv\\lib\\site-packages (from jupyter-core!=5.0.*,>=4.12->ipykernel->-r ../code/config/requirements.txt (line 2)) (306)\n",
      "Requirement already satisfied: setuptools in e:\\uao no sincronizada\\5° semestre\\etl\\corte 1\\workshop001\\workshop001_etl_education\\venv\\lib\\site-packages (from nodeenv>=0.11.1->pre-commit->-r ../code/config/requirements.txt (line 8)) (58.1.0)\n",
      "Requirement already satisfied: idna<4,>=2.5 in e:\\uao no sincronizada\\5° semestre\\etl\\corte 1\\workshop001\\workshop001_etl_education\\venv\\lib\\site-packages (from requests>=2.31.0->pip-audit->-r ../code/config/requirements.txt (line 7)) (3.6)\n",
      "Requirement already satisfied: urllib3<3,>=1.21.1 in e:\\uao no sincronizada\\5° semestre\\etl\\corte 1\\workshop001\\workshop001_etl_education\\venv\\lib\\site-packages (from requests>=2.31.0->pip-audit->-r ../code/config/requirements.txt (line 7)) (2.2.0)\n",
      "Requirement already satisfied: certifi>=2017.4.17 in e:\\uao no sincronizada\\5° semestre\\etl\\corte 1\\workshop001\\workshop001_etl_education\\venv\\lib\\site-packages (from requests>=2.31.0->pip-audit->-r ../code/config/requirements.txt (line 7)) (2024.2.2)\n",
      "Requirement already satisfied: charset-normalizer<4,>=2 in e:\\uao no sincronizada\\5° semestre\\etl\\corte 1\\workshop001\\workshop001_etl_education\\venv\\lib\\site-packages (from requests>=2.31.0->pip-audit->-r ../code/config/requirements.txt (line 7)) (3.3.2)\n",
      "Requirement already satisfied: markdown-it-py>=2.2.0 in e:\\uao no sincronizada\\5° semestre\\etl\\corte 1\\workshop001\\workshop001_etl_education\\venv\\lib\\site-packages (from rich>=12.4->pip-audit->-r ../code/config/requirements.txt (line 7)) (3.0.0)\n",
      "Requirement already satisfied: distlib<1,>=0.3.7 in e:\\uao no sincronizada\\5° semestre\\etl\\corte 1\\workshop001\\workshop001_etl_education\\venv\\lib\\site-packages (from virtualenv>=20.10.0->pre-commit->-r ../code/config/requirements.txt (line 8)) (0.3.8)\n",
      "Requirement already satisfied: parso<0.9.0,>=0.8.3 in e:\\uao no sincronizada\\5° semestre\\etl\\corte 1\\workshop001\\workshop001_etl_education\\venv\\lib\\site-packages (from jedi>=0.16->ipython>=7.23.1->ipykernel->-r ../code/config/requirements.txt (line 2)) (0.8.3)\n",
      "Requirement already satisfied: boolean.py>=4.0 in e:\\uao no sincronizada\\5° semestre\\etl\\corte 1\\workshop001\\workshop001_etl_education\\venv\\lib\\site-packages (from license-expression<31,>=30->cyclonedx-python-lib<7,>=5->pip-audit->-r ../code/config/requirements.txt (line 7)) (4.0)\n",
      "Requirement already satisfied: mdurl~=0.1 in e:\\uao no sincronizada\\5° semestre\\etl\\corte 1\\workshop001\\workshop001_etl_education\\venv\\lib\\site-packages (from markdown-it-py>=2.2.0->rich>=12.4->pip-audit->-r ../code/config/requirements.txt (line 7)) (0.1.2)\n",
      "Requirement already satisfied: wcwidth in e:\\uao no sincronizada\\5° semestre\\etl\\corte 1\\workshop001\\workshop001_etl_education\\venv\\lib\\site-packages (from prompt-toolkit<3.1.0,>=3.0.41->ipython>=7.23.1->ipykernel->-r ../code/config/requirements.txt (line 2)) (0.2.13)\n",
      "Requirement already satisfied: defusedxml<0.8.0,>=0.7.1 in e:\\uao no sincronizada\\5° semestre\\etl\\corte 1\\workshop001\\workshop001_etl_education\\venv\\lib\\site-packages (from py-serializable<2,>=0.16->cyclonedx-python-lib<7,>=5->pip-audit->-r ../code/config/requirements.txt (line 7)) (0.7.1)\n",
      "Requirement already satisfied: asttokens>=2.1.0 in e:\\uao no sincronizada\\5° semestre\\etl\\corte 1\\workshop001\\workshop001_etl_education\\venv\\lib\\site-packages (from stack-data->ipython>=7.23.1->ipykernel->-r ../code/config/requirements.txt (line 2)) (2.4.1)\n",
      "Requirement already satisfied: executing>=1.2.0 in e:\\uao no sincronizada\\5° semestre\\etl\\corte 1\\workshop001\\workshop001_etl_education\\venv\\lib\\site-packages (from stack-data->ipython>=7.23.1->ipykernel->-r ../code/config/requirements.txt (line 2)) (2.0.1)\n",
      "Requirement already satisfied: pure-eval in e:\\uao no sincronizada\\5° semestre\\etl\\corte 1\\workshop001\\workshop001_etl_education\\venv\\lib\\site-packages (from stack-data->ipython>=7.23.1->ipykernel->-r ../code/config/requirements.txt (line 2)) (0.2.2)\n",
      "Note: you may need to restart the kernel to use updated packages.\n"
     ]
    },
    {
     "name": "stderr",
     "output_type": "stream",
     "text": [
      "WARNING: You are using pip version 22.0.4; however, version 24.0 is available.\n",
      "You should consider upgrading via the 'e:\\UAO No Sincronizada\\5° Semestre\\ETL\\Corte 1\\Workshop001\\workshop001_etl_education\\venv\\Scripts\\python.exe -m pip install --upgrade pip' command.\n"
     ]
    }
   ],
   "source": [
    "pip install -r ../code/config/requirements.txt"
   ]
  },
  {
   "cell_type": "markdown",
   "metadata": {},
   "source": [
    "---\n",
    "## Proccess"
   ]
  },
  {
   "cell_type": "markdown",
   "metadata": {},
   "source": [
    "Import libraries:"
   ]
  },
  {
   "cell_type": "code",
   "execution_count": 2,
   "metadata": {},
   "outputs": [],
   "source": [
    "import pandas as pd\n",
    "import importlib.util\n",
    "\n",
    "spec = importlib.util.spec_from_file_location(\"connect_database\", f\"../code/connect_database.py\")\n",
    "connect_database = importlib.util.module_from_spec(spec)\n",
    "spec.loader.exec_module(connect_database)"
   ]
  },
  {
   "cell_type": "markdown",
   "metadata": {},
   "source": [
    "Information about CSV file to load:"
   ]
  },
  {
   "cell_type": "code",
   "execution_count": 3,
   "metadata": {},
   "outputs": [],
   "source": [
    "location_file = '../data/candidates.csv'\n",
    "raw_table_database = 'raw_applicant'\n",
    "names_file = ['first_name', 'last_name', 'email', 'applicant_date', 'country', 'experience_year', 'seniority', 'technology', 'code_challenge_score', 'technical_interview_score']"
   ]
  },
  {
   "cell_type": "markdown",
   "metadata": {},
   "source": [
    "Create connection:"
   ]
  },
  {
   "cell_type": "code",
   "execution_count": 4,
   "metadata": {},
   "outputs": [],
   "source": [
    "# Create connection with PostgreSQL\n",
    "connection = connect_database.ConnectionPostgres()\n",
    "connection.make_tables()\n",
    "# Read CSV file\n",
    "dataframe = pd.read_csv(location_file, names = names_file, delimiter=';', header=0)\n",
    "# Reorder values\n",
    "dataframe.sort_values(by=['first_name', 'last_name', 'applicant_date', 'country'], inplace=True)\n",
    "# Convert index to id\n",
    "dataframe.reset_index(inplace=True)\n",
    "dataframe.rename(columns={'index': 'id'}, inplace=True)\n",
    "# Load data obtained to PostgreSQL\n",
    "dataframe.to_sql(raw_table_database, connection.engine, if_exists='replace', index=False)\n",
    "connection.log('Data loaded to {}: {} rows - {} columns.' .format(connection.connection_config['database'], dataframe.shape[0], dataframe.shape[1]))\n",
    "# Close connection\n",
    "connection.close_connection()"
   ]
  },
  {
   "cell_type": "markdown",
   "metadata": {},
   "source": [
    "Data loaded:\n",
    "\n",
    "![Raw applicant data](https://gist.github.com/assets/92474551/35a5912d-65dd-4680-aca3-d6b7e0b240f3)"
   ]
  }
 ],
 "metadata": {
  "kernelspec": {
   "display_name": "Python 3",
   "language": "python",
   "name": "python3"
  },
  "language_info": {
   "codemirror_mode": {
    "name": "ipython",
    "version": 3
   },
   "file_extension": ".py",
   "mimetype": "text/x-python",
   "name": "python",
   "nbconvert_exporter": "python",
   "pygments_lexer": "ipython3",
   "version": "3.10.3"
  }
 },
 "nbformat": 4,
 "nbformat_minor": 2
}
