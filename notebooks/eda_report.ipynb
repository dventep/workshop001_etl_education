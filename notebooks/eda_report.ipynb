{
 "cells": [
  {
   "cell_type": "markdown",
   "metadata": {},
   "source": [
    "# EDA Report\n",
    "\n",
    "In this file, I make a EDA Report Jupyter Notebook using Python Kernel in a venv what get data of PosgreSQL table previously loaded called **raw_applicant** of **etl_workshop_first** database to clean and transform it in data that can bring us value to load again a PosgreSQL table called **applicant**.\n",
    "\n",
    "Later, I will connect Power BI with **applicant**'s PostgreSQL table to communicate the objetives specified:\n",
    "\n",
    "- Hires by technology.\n",
    "\n",
    "- Hires by year.\n",
    "\n",
    "- Hires by seniority.\n",
    "\n",
    "- Hires by country over years (USA, Brazil, Colombia, and Ecuador only)."
   ]
  },
  {
   "cell_type": "markdown",
   "metadata": {},
   "source": [
    "In this file I create:\n",
    "\n",
    "1. The connection between PostgreSQL and Python\n",
    "\n",
    "2. The database called **etl_workshop_first**.\n",
    "\n",
    "3. Two tables with its properties: **raw_applicant** and **applicant**."
   ]
  },
  {
   "cell_type": "markdown",
   "metadata": {},
   "source": [
    "Import libraries:"
   ]
  },
  {
   "cell_type": "code",
   "execution_count": null,
   "metadata": {},
   "outputs": [
    {
     "ename": "",
     "evalue": "",
     "output_type": "error",
     "traceback": [
      "\u001b[1;31mFailed to connect to the remote Jupyter Server 'http://127.0.0.1:8888/'. Verify the server is running and reachable. ('_xsrf' argument missing from POST)."
     ]
    }
   ],
   "source": [
    "import pandas as pd\n",
    "import numpy as np\n",
    "from sqlalchemy import create_engine\n",
    "\n",
    "from connect_database import Connection_Postgres"
   ]
  },
  {
   "cell_type": "markdown",
   "metadata": {},
   "source": [
    "## Let's know the table\n",
    "This table has 50.000 rows and 10 columns."
   ]
  },
  {
   "cell_type": "code",
   "execution_count": null,
   "metadata": {},
   "outputs": [],
   "source": [
    "# Create connection with PostgreSQL\n",
    "connection = Connection_Postgres()\n",
    "cursor = connection.connection.cursor()\n",
    "# Consult data\n",
    "query_to_do = \"SELECT first_name, last_name, email, applicant_date, country, experience_year, seniority, technology, code_challenge_score, technical_interview_score FROM raw_applicant\"\n",
    "cursor.execute(query_to_do)\n",
    "record_table = cursor.fetchall()\n",
    "# Get column names\n",
    "column_names = [desc[0] for desc in cursor.description]\n",
    "# Create dataframe\n",
    "dataframe = pd.DataFrame(record_table, columns=column_names)\n",
    "# Create connection with engine\n",
    "connection_string = f\"postgresql://{connection.connection_config['user']}:{connection.connection_config['password']}@{connection.connection_config['host']}:{connection.connection_config['port']}/{connection.connection_config['database']}\"\n",
    "postgres_engine = create_engine(connection_string)\n",
    "# Close connection\n",
    "connection.close_connection_database()"
   ]
  },
  {
   "cell_type": "code",
   "execution_count": null,
   "metadata": {},
   "outputs": [],
   "source": [
    "# Check info\n",
    "dataframe.info()"
   ]
  },
  {
   "cell_type": "markdown",
   "metadata": {},
   "source": [
    "Describing the table:"
   ]
  },
  {
   "cell_type": "code",
   "execution_count": null,
   "metadata": {},
   "outputs": [],
   "source": [
    "# Describe data\n",
    "dataframe.describe()"
   ]
  },
  {
   "cell_type": "markdown",
   "metadata": {},
   "source": [
    "Checking for NaN values that I couldn't see"
   ]
  },
  {
   "cell_type": "code",
   "execution_count": null,
   "metadata": {},
   "outputs": [],
   "source": [
    "dataframe.isna().sum()"
   ]
  },
  {
   "cell_type": "markdown",
   "metadata": {},
   "source": [
    "Checking values for each column of table"
   ]
  },
  {
   "cell_type": "code",
   "execution_count": null,
   "metadata": {},
   "outputs": [],
   "source": [
    "for column in dataframe.columns:\n",
    "    print(dataframe[column].value_counts())\n",
    "    print(\"-\"*10)"
   ]
  },
  {
   "cell_type": "markdown",
   "metadata": {},
   "source": [
    "I see that in two score columns (code_challenge_score and technical_interview_score) have values among 0 and 10, where 10 is the maximum qualitification."
   ]
  },
  {
   "cell_type": "markdown",
   "metadata": {},
   "source": [
    "#### Time analysis\n",
    "Let's go deeper on applicant_date column."
   ]
  },
  {
   "cell_type": "code",
   "execution_count": null,
   "metadata": {},
   "outputs": [],
   "source": [
    "dataframe['applicant_date'] = pd.to_datetime(dataframe['applicant_date'], format='mixed')\n",
    "dataframe['applicant_year'] = dataframe['applicant_date'].dt.year\n",
    "dataframe['applicant_month_name'] = dataframe['applicant_date'].dt.month_name()\n",
    "dataframe['applicant_month'] = dataframe['applicant_date'].dt.month"
   ]
  },
  {
   "cell_type": "code",
   "execution_count": null,
   "metadata": {},
   "outputs": [],
   "source": [
    "dataframe['applicant_year'].value_counts()"
   ]
  },
  {
   "cell_type": "code",
   "execution_count": null,
   "metadata": {},
   "outputs": [],
   "source": [
    "dataframe['applicant_month_name'].value_counts()"
   ]
  },
  {
   "cell_type": "markdown",
   "metadata": {},
   "source": [
    "### Let's create the new column of is hiring or not\n",
    "I take code_challenge_score and technical_interview_score for this."
   ]
  },
  {
   "cell_type": "code",
   "execution_count": null,
   "metadata": {},
   "outputs": [],
   "source": [
    "dataframe['is_hire'] = np.where((dataframe['code_challenge_score'] >= 7) & (dataframe['technical_interview_score'] >= 7), 1, 0)"
   ]
  },
  {
   "cell_type": "markdown",
   "metadata": {},
   "source": [
    "### Let's load this dataframe to applicant table in PostgreSQL"
   ]
  },
  {
   "cell_type": "code",
   "execution_count": null,
   "metadata": {},
   "outputs": [],
   "source": [
    "# Load data obtained to PostgreSQL\n",
    "dataframe.to_sql('applicant', postgres_engine, if_exists='replace', index=False)\n",
    "connection.log('Data loaded to {}: {} rows - {} columns.' .format('applicant', dataframe.shape[0], dataframe.shape[1]))"
   ]
  },
  {
   "cell_type": "markdown",
   "metadata": {},
   "source": [
    "Data loaded:\n",
    "\n",
    "![Data load to applicant][def]\n",
    "\n",
    "[def]: figures/applicant_data.png"
   ]
  }
 ],
 "metadata": {
  "kernelspec": {
   "display_name": "Python 3 (ipykernel)",
   "language": "python",
   "name": "python3"
  },
  "language_info": {
   "name": "python",
   "version": "3.10.3"
  }
 },
 "nbformat": 4,
 "nbformat_minor": 2
}
