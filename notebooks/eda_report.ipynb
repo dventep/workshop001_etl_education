{
 "cells": [
  {
   "cell_type": "markdown",
   "metadata": {},
   "source": [
    "# EDA Report\n",
    "\n",
    "In this file, we make a EDA Report Jupyter Notebook using Python Kernel in a venv what get data of PosgreSQL table previously loaded called **raw_applicant** of **etl_workshop_first** database hosted in a **Local server** or in **AWS RDS server** depending on the credendials filename assignment (_credentials.ini_ filename for local or *aws_credentials.ini* filename for cloud) to clean and transform it in data that can bring us value to load again a PosgreSQL table called **applicant**.\n",
    "\n",
    "Later, we will connect **Looker Studio** with **applicant**'s PostgreSQL table to communicate the objetives specified:\n",
    "\n",
    "- Hires by technology.\n",
    "\n",
    "- Hires by year.\n",
    "\n",
    "- Hires by seniority.\n",
    "\n",
    "- Hires by country over years (USA, Brazil, Colombia, and Ecuador only)."
   ]
  },
  {
   "cell_type": "markdown",
   "metadata": {},
   "source": [
    "---\n",
    "## Install requirement libraries"
   ]
  },
  {
   "cell_type": "code",
   "execution_count": null,
   "metadata": {
    "vscode": {
     "languageId": "bat"
    }
   },
   "outputs": [],
   "source": [
    "pip install -r ../code/config/requirements.txt"
   ]
  },
  {
   "cell_type": "markdown",
   "metadata": {},
   "source": [
    "---\n",
    "## Process"
   ]
  },
  {
   "cell_type": "markdown",
   "metadata": {},
   "source": [
    "Import libraries:"
   ]
  },
  {
   "cell_type": "code",
   "execution_count": 2,
   "metadata": {},
   "outputs": [],
   "source": [
    "import importlib.util\n",
    "import matplotlib.pyplot as plt\n",
    "import numpy as np\n",
    "import pandas as pd\n",
    "\n",
    "spec = importlib.util.spec_from_file_location(\"connect_database\", f\"../code/connect_database.py\")\n",
    "connect_database = importlib.util.module_from_spec(spec)\n",
    "spec.loader.exec_module(connect_database)"
   ]
  },
  {
   "cell_type": "markdown",
   "metadata": {},
   "source": [
    "### Let's know the table\n",
    "Getting data:\n",
    "\n",
    "Let's create the connection with PostgreSQL and the dataframe"
   ]
  },
  {
   "cell_type": "code",
   "execution_count": 3,
   "metadata": {},
   "outputs": [],
   "source": [
    "connection = connect_database.ConnectionPostgres()\n",
    "records_table = connection.get_module_records('RawApplicant')\n",
    "raw_data_dataframe = pd.DataFrame(records_table)"
   ]
  },
  {
   "cell_type": "markdown",
   "metadata": {},
   "source": [
    "Let's find out how many records and columns it has:"
   ]
  },
  {
   "cell_type": "code",
   "execution_count": 4,
   "metadata": {},
   "outputs": [
    {
     "data": {
      "text/plain": [
       "(50000, 12)"
      ]
     },
     "execution_count": 4,
     "metadata": {},
     "output_type": "execute_result"
    }
   ],
   "source": [
    "\n",
    "raw_data_dataframe.shape"
   ]
  },
  {
   "cell_type": "markdown",
   "metadata": {},
   "source": [
    "We had 11 columns when we loaded the data from the CSV file to SQL table, so we have 1 column added. Let's see what they are:"
   ]
  },
  {
   "cell_type": "code",
   "execution_count": 5,
   "metadata": {},
   "outputs": [
    {
     "data": {
      "text/plain": [
       "Index(['_sa_instance_state', 'email', 'id', 'country', 'seniority',\n",
       "       'code_challenge_score', 'applicant_date', 'first_name', 'last_name',\n",
       "       'experience_year', 'technology', 'technical_interview_score'],\n",
       "      dtype='object')"
      ]
     },
     "execution_count": 5,
     "metadata": {},
     "output_type": "execute_result"
    }
   ],
   "source": [
    "raw_data_dataframe.columns"
   ]
  },
  {
   "cell_type": "markdown",
   "metadata": {},
   "source": [
    "There is a column '*_sa_instance_state*' unknown. Inquiring is a record that adds SQLAlchemy to store the status of the object instance. We will confirm this by looking at some of its records to remove the column if so:"
   ]
  },
  {
   "cell_type": "code",
   "execution_count": 6,
   "metadata": {},
   "outputs": [
    {
     "data": {
      "text/plain": [
       "_sa_instance_state\n",
       "<sqlalchemy.orm.state.InstanceState object at 0x000001D4AC8A7580>    1\n",
       "<sqlalchemy.orm.state.InstanceState object at 0x000001D4B1835480>    1\n",
       "<sqlalchemy.orm.state.InstanceState object at 0x000001D4B1834C40>    1\n",
       "<sqlalchemy.orm.state.InstanceState object at 0x000001D4B1834CA0>    1\n",
       "<sqlalchemy.orm.state.InstanceState object at 0x000001D4B1834D00>    1\n",
       "                                                                    ..\n",
       "<sqlalchemy.orm.state.InstanceState object at 0x000001D4B088CC40>    1\n",
       "<sqlalchemy.orm.state.InstanceState object at 0x000001D4B088CCA0>    1\n",
       "<sqlalchemy.orm.state.InstanceState object at 0x000001D4B088CD00>    1\n",
       "<sqlalchemy.orm.state.InstanceState object at 0x000001D4B088CD60>    1\n",
       "<sqlalchemy.orm.state.InstanceState object at 0x000001D4B37E9060>    1\n",
       "Name: count, Length: 50000, dtype: int64"
      ]
     },
     "execution_count": 6,
     "metadata": {},
     "output_type": "execute_result"
    }
   ],
   "source": [
    "raw_data_dataframe['_sa_instance_state'].value_counts()"
   ]
  },
  {
   "cell_type": "markdown",
   "metadata": {},
   "source": [
    "This confirms my inquiry and we will delete it:"
   ]
  },
  {
   "cell_type": "code",
   "execution_count": 7,
   "metadata": {},
   "outputs": [],
   "source": [
    "raw_data_dataframe.drop(columns=['_sa_instance_state'], inplace=True)"
   ]
  },
  {
   "cell_type": "markdown",
   "metadata": {},
   "source": [
    "Let's continue with exploration."
   ]
  },
  {
   "cell_type": "code",
   "execution_count": 8,
   "metadata": {},
   "outputs": [
    {
     "name": "stdout",
     "output_type": "stream",
     "text": [
      "<class 'pandas.core.frame.DataFrame'>\n",
      "RangeIndex: 50000 entries, 0 to 49999\n",
      "Data columns (total 11 columns):\n",
      " #   Column                     Non-Null Count  Dtype \n",
      "---  ------                     --------------  ----- \n",
      " 0   email                      50000 non-null  object\n",
      " 1   id                         50000 non-null  int64 \n",
      " 2   country                    50000 non-null  object\n",
      " 3   seniority                  50000 non-null  object\n",
      " 4   code_challenge_score       50000 non-null  int64 \n",
      " 5   applicant_date             50000 non-null  object\n",
      " 6   first_name                 50000 non-null  object\n",
      " 7   last_name                  50000 non-null  object\n",
      " 8   experience_year            50000 non-null  int64 \n",
      " 9   technology                 50000 non-null  object\n",
      " 10  technical_interview_score  50000 non-null  int64 \n",
      "dtypes: int64(4), object(7)\n",
      "memory usage: 4.2+ MB\n"
     ]
    }
   ],
   "source": [
    "raw_data_dataframe.info()"
   ]
  },
  {
   "cell_type": "markdown",
   "metadata": {},
   "source": [
    "Describing the table:"
   ]
  },
  {
   "cell_type": "code",
   "execution_count": 9,
   "metadata": {},
   "outputs": [
    {
     "data": {
      "text/html": [
       "<div>\n",
       "<style scoped>\n",
       "    .dataframe tbody tr th:only-of-type {\n",
       "        vertical-align: middle;\n",
       "    }\n",
       "\n",
       "    .dataframe tbody tr th {\n",
       "        vertical-align: top;\n",
       "    }\n",
       "\n",
       "    .dataframe thead th {\n",
       "        text-align: right;\n",
       "    }\n",
       "</style>\n",
       "<table border=\"1\" class=\"dataframe\">\n",
       "  <thead>\n",
       "    <tr style=\"text-align: right;\">\n",
       "      <th></th>\n",
       "      <th>id</th>\n",
       "      <th>code_challenge_score</th>\n",
       "      <th>experience_year</th>\n",
       "      <th>technical_interview_score</th>\n",
       "    </tr>\n",
       "  </thead>\n",
       "  <tbody>\n",
       "    <tr>\n",
       "      <th>count</th>\n",
       "      <td>50000.000000</td>\n",
       "      <td>50000.000000</td>\n",
       "      <td>50000.000000</td>\n",
       "      <td>50000.000000</td>\n",
       "    </tr>\n",
       "    <tr>\n",
       "      <th>mean</th>\n",
       "      <td>25000.500000</td>\n",
       "      <td>4.996400</td>\n",
       "      <td>15.286980</td>\n",
       "      <td>5.003880</td>\n",
       "    </tr>\n",
       "    <tr>\n",
       "      <th>std</th>\n",
       "      <td>14433.901067</td>\n",
       "      <td>3.166896</td>\n",
       "      <td>8.830652</td>\n",
       "      <td>3.165082</td>\n",
       "    </tr>\n",
       "    <tr>\n",
       "      <th>min</th>\n",
       "      <td>1.000000</td>\n",
       "      <td>0.000000</td>\n",
       "      <td>0.000000</td>\n",
       "      <td>0.000000</td>\n",
       "    </tr>\n",
       "    <tr>\n",
       "      <th>25%</th>\n",
       "      <td>12500.750000</td>\n",
       "      <td>2.000000</td>\n",
       "      <td>8.000000</td>\n",
       "      <td>2.000000</td>\n",
       "    </tr>\n",
       "    <tr>\n",
       "      <th>50%</th>\n",
       "      <td>25000.500000</td>\n",
       "      <td>5.000000</td>\n",
       "      <td>15.000000</td>\n",
       "      <td>5.000000</td>\n",
       "    </tr>\n",
       "    <tr>\n",
       "      <th>75%</th>\n",
       "      <td>37500.250000</td>\n",
       "      <td>8.000000</td>\n",
       "      <td>23.000000</td>\n",
       "      <td>8.000000</td>\n",
       "    </tr>\n",
       "    <tr>\n",
       "      <th>max</th>\n",
       "      <td>50000.000000</td>\n",
       "      <td>10.000000</td>\n",
       "      <td>30.000000</td>\n",
       "      <td>10.000000</td>\n",
       "    </tr>\n",
       "  </tbody>\n",
       "</table>\n",
       "</div>"
      ],
      "text/plain": [
       "                 id  code_challenge_score  experience_year  \\\n",
       "count  50000.000000          50000.000000     50000.000000   \n",
       "mean   25000.500000              4.996400        15.286980   \n",
       "std    14433.901067              3.166896         8.830652   \n",
       "min        1.000000              0.000000         0.000000   \n",
       "25%    12500.750000              2.000000         8.000000   \n",
       "50%    25000.500000              5.000000        15.000000   \n",
       "75%    37500.250000              8.000000        23.000000   \n",
       "max    50000.000000             10.000000        30.000000   \n",
       "\n",
       "       technical_interview_score  \n",
       "count               50000.000000  \n",
       "mean                    5.003880  \n",
       "std                     3.165082  \n",
       "min                     0.000000  \n",
       "25%                     2.000000  \n",
       "50%                     5.000000  \n",
       "75%                     8.000000  \n",
       "max                    10.000000  "
      ]
     },
     "execution_count": 9,
     "metadata": {},
     "output_type": "execute_result"
    }
   ],
   "source": [
    "raw_data_dataframe.describe()"
   ]
  },
  {
   "cell_type": "markdown",
   "metadata": {},
   "source": [
    "Excluding the **id** column, three columns are read as numeric. **code_challenge_score** and **technical_interview_score** have data between 0 and 10. The mean score in **code_challenge_score** column is a little lower than mean score in **technical_interview_ score** column. In the column called **experience_year**, standard deviation is quite high, indicating signicant variability in the work experience of candidates.\n",
    "\n",
    "Checking for NaN values that we couldn't see"
   ]
  },
  {
   "cell_type": "code",
   "execution_count": 10,
   "metadata": {},
   "outputs": [
    {
     "data": {
      "text/plain": [
       "email                        0\n",
       "id                           0\n",
       "country                      0\n",
       "seniority                    0\n",
       "code_challenge_score         0\n",
       "applicant_date               0\n",
       "first_name                   0\n",
       "last_name                    0\n",
       "experience_year              0\n",
       "technology                   0\n",
       "technical_interview_score    0\n",
       "dtype: int64"
      ]
     },
     "execution_count": 10,
     "metadata": {},
     "output_type": "execute_result"
    }
   ],
   "source": [
    "raw_data_dataframe.isna().sum()"
   ]
  },
  {
   "cell_type": "markdown",
   "metadata": {},
   "source": [
    "Checking values for each column of table"
   ]
  },
  {
   "cell_type": "code",
   "execution_count": 11,
   "metadata": {},
   "outputs": [
    {
     "name": "stdout",
     "output_type": "stream",
     "text": [
      "email\n",
      "marianne31@yahoo.com                3\n",
      "fern70@gmail.com                    3\n",
      "hildegard_prohaska@yahoo.com        2\n",
      "macey77@yahoo.com                   2\n",
      "octavia58@gmail.com                 2\n",
      "                                   ..\n",
      "esperanza83@gmail.com               1\n",
      "esperanza85@gmail.com               1\n",
      "esperanza9@hotmail.com              1\n",
      "esperanza_balistreri13@gmail.com    1\n",
      "zula_weissnat@hotmail.com           1\n",
      "Name: count, Length: 49833, dtype: int64\n",
      "----------\n",
      "id\n",
      "1        1\n",
      "33351    1\n",
      "33329    1\n",
      "33330    1\n",
      "33331    1\n",
      "        ..\n",
      "16669    1\n",
      "16670    1\n",
      "16671    1\n",
      "16672    1\n",
      "50000    1\n",
      "Name: count, Length: 50000, dtype: int64\n",
      "----------\n",
      "country\n",
      "Malawi                          242\n",
      "Spain                           238\n",
      "Cook Islands                    234\n",
      "Svalbard & Jan Mayen Islands    234\n",
      "Netherlands Antilles            234\n",
      "                               ... \n",
      "Libyan Arab Jamahiriya          172\n",
      "Cape Verde                      172\n",
      "Isle of Man                     170\n",
      "Tanzania                        165\n",
      "Cocos (Keeling) Islands         164\n",
      "Name: count, Length: 244, dtype: int64\n",
      "----------\n",
      "seniority\n",
      "Intern       7255\n",
      "Mid-Level    7253\n",
      "Trainee      7183\n",
      "Junior       7100\n",
      "Architect    7079\n",
      "Lead         7071\n",
      "Senior       7059\n",
      "Name: count, dtype: int64\n",
      "----------\n",
      "code_challenge_score\n",
      "3     4678\n",
      "8     4619\n",
      "1     4590\n",
      "10    4588\n",
      "2     4579\n",
      "4     4521\n",
      "9     4519\n",
      "7     4506\n",
      "0     4502\n",
      "5     4479\n",
      "6     4419\n",
      "Name: count, dtype: int64\n",
      "----------\n"
     ]
    },
    {
     "name": "stdout",
     "output_type": "stream",
     "text": [
      "applicant_date\n",
      "2020-07-07    50\n",
      "2018-12-06    48\n",
      "2019-09-01    47\n",
      "2020-10-12    47\n",
      "2018-09-23    47\n",
      "              ..\n",
      "2022-01-05    17\n",
      "2019-08-31    16\n",
      "2020-05-03    16\n",
      "2019-03-27    15\n",
      "2022-01-08    14\n",
      "Name: count, Length: 1646, dtype: int64\n",
      "----------\n",
      "first_name\n",
      "Sarai        33\n",
      "Elyse        32\n",
      "Anabel       31\n",
      "Eva          31\n",
      "Nayeli       30\n",
      "             ..\n",
      "Jaydon        6\n",
      "Willie        6\n",
      "Antonetta     5\n",
      "Paul          5\n",
      "Gudrun        5\n",
      "Name: count, Length: 3007, dtype: int64\n",
      "----------\n",
      "last_name\n",
      "Murazik      138\n",
      "Nitzsche     134\n",
      "Harvey       133\n",
      "Lang         133\n",
      "Metz         133\n",
      "            ... \n",
      "Kutch         83\n",
      "Howe          82\n",
      "White         79\n",
      "McClure       78\n",
      "Bechtelar     76\n",
      "Name: count, Length: 474, dtype: int64\n",
      "----------\n",
      "experience_year\n",
      "24    1720\n",
      "7     1699\n",
      "16    1692\n",
      "5     1692\n",
      "29    1677\n",
      "2     1676\n",
      "28    1676\n",
      "23    1675\n",
      "22    1671\n",
      "30    1665\n",
      "4     1664\n",
      "9     1662\n",
      "25    1660\n",
      "26    1659\n",
      "3     1637\n",
      "11    1632\n",
      "10    1623\n",
      "18    1621\n",
      "19    1617\n",
      "21    1614\n",
      "15    1612\n",
      "8     1612\n",
      "1     1608\n",
      "13    1607\n",
      "14    1601\n",
      "12    1600\n",
      "27    1596\n",
      "6     1589\n",
      "20    1585\n",
      "17    1579\n",
      "0      779\n",
      "Name: count, dtype: int64\n",
      "----------\n",
      "technology\n",
      "Game Development                           3818\n",
      "DevOps                                     3808\n",
      "Social Media Community Management          2028\n",
      "System Administration                      2014\n",
      "Mulesoft                                   1973\n",
      "Development - Backend                      1965\n",
      "Development - FullStack                    1961\n",
      "Adobe Experience Manager                   1954\n",
      "Data Engineer                              1951\n",
      "Security                                   1936\n",
      "Development - CMS Frontend                 1934\n",
      "Business Intelligence                      1934\n",
      "Database Administration                    1933\n",
      "Client Success                             1927\n",
      "Design                                     1906\n",
      "QA Manual                                  1902\n",
      "Technical Writing                          1901\n",
      "QA Automation                              1892\n",
      "Sales                                      1890\n",
      "Development - Frontend                     1887\n",
      "Development - CMS Backend                  1882\n",
      "Business Analytics / Project Management    1878\n",
      "Salesforce                                 1874\n",
      "Security Compliance                        1852\n",
      "Name: count, dtype: int64\n",
      "----------\n",
      "technical_interview_score\n",
      "9     4597\n",
      "1     4588\n",
      "4     4578\n",
      "7     4578\n",
      "8     4555\n",
      "0     4539\n",
      "10    4539\n",
      "3     4528\n",
      "5     4527\n",
      "2     4500\n",
      "6     4471\n",
      "Name: count, dtype: int64\n",
      "----------\n"
     ]
    }
   ],
   "source": [
    "for column in raw_data_dataframe.columns:\n",
    "    print(raw_data_dataframe[column].sort_values().value_counts(ascending=False))\n",
    "    print(\"-\"*10)"
   ]
  },
  {
   "cell_type": "markdown",
   "metadata": {},
   "source": [
    "With this process, we see several things:\n",
    "\n",
    "1. Two score columns (_code_challenge_score and technical_interview_score_) have values among 0 and 10, where 10 is the maximum qualitification.\n",
    "\n",
    "2. There are several tecnologies that could be agrouped together and provide us with better insights.\n",
    "\n",
    "3. There are emails that repeat among all records, which could be due to their application as candidates in different areas. So, we will focus in this part.\n",
    "\n",
    "4. We consider it important to extract the year and month in order to treat them in a better way in the dashboard."
   ]
  },
  {
   "cell_type": "markdown",
   "metadata": {},
   "source": [
    "#### 1. Code_challenge_score and technical_interview_score & is hire?\n",
    "\n",
    "In this section, let's create a new column on the candidates are hire or not. As is the requirement, a candidate is HIRED when she/he has both scores greater than or equal to 7."
   ]
  },
  {
   "cell_type": "markdown",
   "metadata": {},
   "source": [
    "Let's look at similarities between the columns, _technical_interview_score_ and _code_challenge_score_:"
   ]
  },
  {
   "cell_type": "code",
   "execution_count": 12,
   "metadata": {},
   "outputs": [
    {
     "data": {
      "image/png": "[encoded data removed]",
      "text/plain": [
       "<Figure size 1000x600 with 1 Axes>"
      ]
     },
     "metadata": {},
     "output_type": "display_data"
    }
   ],
   "source": [
    "counts_technical = raw_data_dataframe['technical_interview_score'].value_counts().sort_index()\n",
    "counts_code = raw_data_dataframe['code_challenge_score'].value_counts().sort_index()\n",
    "fig, ax = plt.subplots(figsize=(10, 6))\n",
    "\n",
    "plt.fill_between(counts_technical.index, counts_technical, color='skyblue', alpha=0.4, label='technical_interview_score')\n",
    "plt.fill_between(counts_code.index, counts_code, color='orange', alpha=0.4, label='code_challenge_score')\n",
    "\n",
    "plt.xlabel('Score')\n",
    "plt.ylabel('Count')\n",
    "plt.title('Stacked Area Chart of Interview and Challenge Scores')\n",
    "ax.legend(loc='upper center', bbox_to_anchor=(0.6, -0.1), ncol=3)\n",
    "plt.show()"
   ]
  },
  {
   "cell_type": "markdown",
   "metadata": {},
   "source": [
    "Let's create the column:"
   ]
  },
  {
   "cell_type": "code",
   "execution_count": 13,
   "metadata": {},
   "outputs": [],
   "source": [
    "raw_data_dataframe['is_hire'] = np.where((raw_data_dataframe['code_challenge_score'] >= 7) & (raw_data_dataframe['technical_interview_score'] >= 7), 1, 0)"
   ]
  },
  {
   "cell_type": "markdown",
   "metadata": {},
   "source": [
    "Let's see how many are candidates hired."
   ]
  },
  {
   "cell_type": "code",
   "execution_count": 14,
   "metadata": {},
   "outputs": [
    {
     "data": {
      "image/png": "[encoded data removed]",
      "text/plain": [
       "<Figure size 800x800 with 1 Axes>"
      ]
     },
     "metadata": {},
     "output_type": "display_data"
    }
   ],
   "source": [
    "hire_counts = raw_data_dataframe['is_hire'].value_counts()\n",
    " \n",
    "def func(pct, allvals):\n",
    "    \"\"\"Define a function to format the tooltip with percentage and count\"\"\"\n",
    "    absolute = int(round(pct/100.*sum(allvals)))\n",
    "    return f'{pct:.1f}%\\n({absolute})'\n",
    "\n",
    "plt.figure(figsize=(8, 8))\n",
    "wedges, texts, autotexts = plt.pie(hire_counts, labels=['Not Hire', 'Hire'], autopct=lambda pct: func(pct, hire_counts), textprops={\"color\": \"black\"}, startangle=140)\n",
    "plt.setp(autotexts, size=12, weight=\"bold\", color=\"white\")\n",
    "\n",
    "plt.title('Proportion of Hire and Not Hire')\n",
    "plt.show()"
   ]
  },
  {
   "cell_type": "markdown",
   "metadata": {},
   "source": [
    "#### 2. Grouping tecnologies to better insights.\n",
    "\n",
    "In this section, let's find out common tecnologies in a generalize way and store them in the dataframe."
   ]
  },
  {
   "cell_type": "code",
   "execution_count": 15,
   "metadata": {},
   "outputs": [
    {
     "data": {
      "text/plain": [
       "array(['Adobe Experience Manager',\n",
       "       'Business Analytics / Project Management', 'Business Intelligence',\n",
       "       'Client Success', 'Data Engineer', 'Database Administration',\n",
       "       'Design', 'DevOps', 'Development - Backend',\n",
       "       'Development - CMS Backend', 'Development - CMS Frontend',\n",
       "       'Development - Frontend', 'Development - FullStack',\n",
       "       'Game Development', 'Mulesoft', 'QA Automation', 'QA Manual',\n",
       "       'Sales', 'Salesforce', 'Security', 'Security Compliance',\n",
       "       'Social Media Community Management', 'System Administration',\n",
       "       'Technical Writing'], dtype=object)"
      ]
     },
     "execution_count": 15,
     "metadata": {},
     "output_type": "execute_result"
    }
   ],
   "source": [
    "raw_data_dataframe['technology'].sort_values().unique()"
   ]
  },
  {
   "cell_type": "code",
   "execution_count": 16,
   "metadata": {},
   "outputs": [
    {
     "data": {
      "text/plain": [
       "24"
      ]
     },
     "execution_count": 16,
     "metadata": {},
     "output_type": "execute_result"
    }
   ],
   "source": [
    "len(raw_data_dataframe['technology'].sort_values().unique())"
   ]
  },
  {
   "cell_type": "markdown",
   "metadata": {},
   "source": [
    "We have 24 different technologies, so I'm going to group them into the following 8 categories:\n",
    "\n",
    "- **Software Development**:\n",
    "\n",
    "    - _Development - Backend_\n",
    "    - _Development - CMS Backend_\n",
    "    - _Development - CMS Frontend_\n",
    "    - _Development - Frontend_\n",
    "    - _Development - FullStack_\n",
    "    - _Game Development_\n",
    "\n",
    "- **Data & Analytics**\n",
    "\n",
    "    - _Business Intelligence_\n",
    "    - _Business Analytics / Project Management_\n",
    "    - _Data Engineer_\n",
    "\n",
    "- **IT Infrastructure & Operations**:\n",
    "\n",
    "    - _Database Administration_\n",
    "    - _System Administration_\n",
    "    - _DevOps_\n",
    "\n",
    "- **Quality Assurance**\n",
    "\n",
    "    - _QA Manual_\n",
    "    - _QA Automation_\n",
    "\n",
    "- **Security**\n",
    "\n",
    "    - _Security_\n",
    "    - _Security Complilance_\n",
    "    \n",
    "- **Customer Relationship and Success**\n",
    "\n",
    "    - _Client Success_\n",
    "    - _Sales_\n",
    "    - _Social Media Community Management_\n",
    "    - _Salesforce_\n",
    "    \n",
    "- **Content Management and Design**\n",
    "\n",
    "    - _Technical Writing_\n",
    "    - _Design_\n",
    "    - _Adobe Experience Manager_\n",
    "    \n",
    "- **Integration and Connectivity**\n",
    "\n",
    "    - _Mulesoft_\n",
    "\n",
    "Let's create a dict to assign each new category to current technology"
   ]
  },
  {
   "cell_type": "code",
   "execution_count": 17,
   "metadata": {},
   "outputs": [],
   "source": [
    "technology_categories = {\n",
    "    'Development - Frontend': 'Software Development',\n",
    "    'Development - Backend': 'Software Development',\n",
    "    'Development - FullStack': 'Software Development',\n",
    "    'Development - CMS Backend': 'Software Development',\n",
    "    'Development - CMS Frontend': 'Software Development',\n",
    "    'Game Development': 'Software Development',\n",
    "    'Business Intelligence': 'Data and Analytics',\n",
    "    'Business Analytics / Project Management': 'Data and Analytics',\n",
    "    'Data Engineer': 'Data and Analytics',\n",
    "    'Database Administration': 'IT Infrastructure and Operations',\n",
    "    'System Administration': 'IT Infrastructure and Operations',\n",
    "    'DevOps': 'IT Infrastructure and Operations',\n",
    "    'QA Manual': 'Quality Assurance',\n",
    "    'QA Automation': 'Quality Assurance',\n",
    "    'Security': 'Security',\n",
    "    'Security Compliance': 'Security',\n",
    "    'Client Success': 'Customer Relationship and Success',\n",
    "    'Sales': 'Customer Relationship and Success',\n",
    "    'Salesforce': 'Customer Relationship and Success',\n",
    "    'Social Media Community Management': 'Customer Relationship and Success',\n",
    "    'Technical Writing': 'Content Management and Design',\n",
    "    'Design': 'Content Management and Design',\n",
    "    'Adobe Experience Manager': 'Content Management and Design',\n",
    "    'Mulesoft': 'Integration and Connectivity'\n",
    "}\n",
    "raw_data_dataframe['technology_category'] = raw_data_dataframe['technology'].map(technology_categories)"
   ]
  },
  {
   "cell_type": "code",
   "execution_count": 18,
   "metadata": {},
   "outputs": [
    {
     "data": {
      "text/plain": [
       "technology_category\n",
       "Software Development                 13447\n",
       "IT Infrastructure and Operations      7755\n",
       "Customer Relationship and Success     7719\n",
       "Data and Analytics                    5763\n",
       "Content Management and Design         5761\n",
       "Quality Assurance                     3794\n",
       "Security                              3788\n",
       "Integration and Connectivity          1973\n",
       "Name: count, dtype: int64"
      ]
     },
     "execution_count": 18,
     "metadata": {},
     "output_type": "execute_result"
    }
   ],
   "source": [
    "raw_data_dataframe['technology_category'].sort_values().value_counts()"
   ]
  },
  {
   "cell_type": "code",
   "execution_count": 19,
   "metadata": {},
   "outputs": [
    {
     "data": {
      "text/plain": [
       "50000"
      ]
     },
     "execution_count": 19,
     "metadata": {},
     "output_type": "execute_result"
    }
   ],
   "source": [
    "raw_data_dataframe['technology_category'].sort_values().value_counts().sum()"
   ]
  },
  {
   "cell_type": "markdown",
   "metadata": {},
   "source": [
    "From 24 to 8 categories with an application confirmation in 50.000 of 50.000 rows.\n",
    "\n",
    "Let's see in a best way:"
   ]
  },
  {
   "cell_type": "code",
   "execution_count": 20,
   "metadata": {},
   "outputs": [],
   "source": [
    "count_technology_name = dict(raw_data_dataframe['technology'].value_counts())\n",
    "technology_name = list(raw_data_dataframe['technology'].unique())\n",
    "\n",
    "technology_category_name = list(raw_data_dataframe['technology_category'].sort_values().unique())\n",
    "\n",
    "values_list = []\n",
    "for technology in technology_name:\n",
    "    row_list = []\n",
    "    for category in technology_category_name:\n",
    "        row_list.append(raw_data_dataframe[(raw_data_dataframe['technology'] == technology) & (raw_data_dataframe['technology_category'] == category)].shape[0])\n",
    "    values_list.append(row_list)\n",
    "values_list = np.array(values_list)\n",
    "column_sums = np.sum(values_list, axis=0)"
   ]
  },
  {
   "cell_type": "code",
   "execution_count": 21,
   "metadata": {},
   "outputs": [
    {
     "data": {
      "image/png": "[encoded data removed]",
      "text/plain": [
       "<Figure size 1100x900 with 1 Axes>"
      ]
     },
     "metadata": {},
     "output_type": "display_data"
    }
   ],
   "source": [
    "fig, ax = plt.subplots(figsize=(11, 9))\n",
    "custom_colors = [\n",
    "    '#1f77b4', '#ff7f0e', '#2ca02c', '#d62728', '#9467bd', '#8c564b', '#e377c2', '#7f7f7f',\n",
    "    '#bcbd22', '#17becf', '#aec7e8', '#ffbb78', '#98df8a', '#ff9896', '#c5b0d5', '#c49c94',\n",
    "    '#f7b6d2', '#c7c7c7', '#dbdb8d', '#9edae5', '#ff6666', '#ffcc99', '#99ff99', '#66b3ff']\n",
    "\n",
    "for i in range(len(values_list)):\n",
    "    ax.barh(technology_category_name, values_list[i], label=technology_name[i], left=np.sum(values_list[:i], axis=0), color=custom_colors[i % len(custom_colors)])\n",
    "for i in range(len(column_sums)):\n",
    "    ax.annotate(str(column_sums[i]), xy=(column_sums[i], i), ha='right', va='center')\n",
    "\n",
    "plt.ylabel('Technology Name')\n",
    "plt.xlabel('Count') \n",
    "plt.title('Horizontal Stacked Bar Chart of Technologies by Category')\n",
    "ax.legend(loc='upper center', bbox_to_anchor=(0.6, -0.1), ncol=3)\n",
    "plt.tight_layout()\n",
    "plt.show()"
   ]
  },
  {
   "cell_type": "code",
   "execution_count": 22,
   "metadata": {},
   "outputs": [
    {
     "data": {
      "text/plain": [
       "Index(['email', 'id', 'country', 'seniority', 'code_challenge_score',\n",
       "       'applicant_date', 'first_name', 'last_name', 'experience_year',\n",
       "       'technology', 'technical_interview_score', 'is_hire',\n",
       "       'technology_category'],\n",
       "      dtype='object')"
      ]
     },
     "execution_count": 22,
     "metadata": {},
     "output_type": "execute_result"
    }
   ],
   "source": [
    "raw_data_dataframe.columns"
   ]
  },
  {
   "cell_type": "markdown",
   "metadata": {},
   "source": [
    "#### 3. Focus in emails repeated. Is there a reason?\n",
    "\n",
    "In this section, let's if there is a rationale (knowing its random origin) and if it can give us an insight."
   ]
  },
  {
   "cell_type": "code",
   "execution_count": 23,
   "metadata": {},
   "outputs": [],
   "source": [
    "grouped_df = raw_data_dataframe.groupby('email').agg({'technology_category': list, 'technology': list, 'technical_interview_score': list, 'code_challenge_score': list}).reset_index()\n",
    "\n",
    "grouped_df['email_count'] = raw_data_dataframe.groupby('email').size().values\n",
    "grouped_df = grouped_df[grouped_df['email_count'] > 1]"
   ]
  },
  {
   "cell_type": "markdown",
   "metadata": {},
   "source": [
    "Above, we performed a grouping by **email** to know the number of applications, technologies, and the average of the code challenge and technical interview scores. Later, we count the occurrences of each email and store it in a new column called **email_count**."
   ]
  },
  {
   "cell_type": "code",
   "execution_count": 24,
   "metadata": {},
   "outputs": [
    {
     "data": {
      "text/plain": [
       "(165, 6)"
      ]
     },
     "execution_count": 24,
     "metadata": {},
     "output_type": "execute_result"
    }
   ],
   "source": [
    "grouped_df.shape"
   ]
  },
  {
   "cell_type": "code",
   "execution_count": 25,
   "metadata": {},
   "outputs": [
    {
     "data": {
      "text/html": [
       "<div>\n",
       "<style scoped>\n",
       "    .dataframe tbody tr th:only-of-type {\n",
       "        vertical-align: middle;\n",
       "    }\n",
       "\n",
       "    .dataframe tbody tr th {\n",
       "        vertical-align: top;\n",
       "    }\n",
       "\n",
       "    .dataframe thead th {\n",
       "        text-align: right;\n",
       "    }\n",
       "</style>\n",
       "<table border=\"1\" class=\"dataframe\">\n",
       "  <thead>\n",
       "    <tr style=\"text-align: right;\">\n",
       "      <th></th>\n",
       "      <th>email</th>\n",
       "      <th>technology_category</th>\n",
       "      <th>technology</th>\n",
       "      <th>technical_interview_score</th>\n",
       "      <th>code_challenge_score</th>\n",
       "      <th>email_count</th>\n",
       "    </tr>\n",
       "  </thead>\n",
       "  <tbody>\n",
       "    <tr>\n",
       "      <th>93</th>\n",
       "      <td>abbigail94@yahoo.com</td>\n",
       "      <td>[IT Infrastructure and Operations, Customer Re...</td>\n",
       "      <td>[DevOps, Client Success]</td>\n",
       "      <td>[2, 8]</td>\n",
       "      <td>[6, 5]</td>\n",
       "      <td>2</td>\n",
       "    </tr>\n",
       "    <tr>\n",
       "      <th>420</th>\n",
       "      <td>addison_bode@hotmail.com</td>\n",
       "      <td>[Software Development, IT Infrastructure and O...</td>\n",
       "      <td>[Development - Backend, Database Administration]</td>\n",
       "      <td>[2, 3]</td>\n",
       "      <td>[7, 10]</td>\n",
       "      <td>2</td>\n",
       "    </tr>\n",
       "    <tr>\n",
       "      <th>1137</th>\n",
       "      <td>alberta95@gmail.com</td>\n",
       "      <td>[Content Management and Design, Customer Relat...</td>\n",
       "      <td>[Adobe Experience Manager, Salesforce]</td>\n",
       "      <td>[2, 1]</td>\n",
       "      <td>[7, 9]</td>\n",
       "      <td>2</td>\n",
       "    </tr>\n",
       "    <tr>\n",
       "      <th>1163</th>\n",
       "      <td>alberto11@yahoo.com</td>\n",
       "      <td>[Customer Relationship and Success, Data and A...</td>\n",
       "      <td>[Sales, Business Intelligence]</td>\n",
       "      <td>[4, 9]</td>\n",
       "      <td>[0, 2]</td>\n",
       "      <td>2</td>\n",
       "    </tr>\n",
       "    <tr>\n",
       "      <th>1286</th>\n",
       "      <td>alejandra17@hotmail.com</td>\n",
       "      <td>[Software Development, Software Development]</td>\n",
       "      <td>[Development - FullStack, Development - Backend]</td>\n",
       "      <td>[9, 10]</td>\n",
       "      <td>[2, 6]</td>\n",
       "      <td>2</td>\n",
       "    </tr>\n",
       "  </tbody>\n",
       "</table>\n",
       "</div>"
      ],
      "text/plain": [
       "                         email  \\\n",
       "93        abbigail94@yahoo.com   \n",
       "420   addison_bode@hotmail.com   \n",
       "1137       alberta95@gmail.com   \n",
       "1163       alberto11@yahoo.com   \n",
       "1286   alejandra17@hotmail.com   \n",
       "\n",
       "                                    technology_category  \\\n",
       "93    [IT Infrastructure and Operations, Customer Re...   \n",
       "420   [Software Development, IT Infrastructure and O...   \n",
       "1137  [Content Management and Design, Customer Relat...   \n",
       "1163  [Customer Relationship and Success, Data and A...   \n",
       "1286       [Software Development, Software Development]   \n",
       "\n",
       "                                            technology  \\\n",
       "93                            [DevOps, Client Success]   \n",
       "420   [Development - Backend, Database Administration]   \n",
       "1137            [Adobe Experience Manager, Salesforce]   \n",
       "1163                    [Sales, Business Intelligence]   \n",
       "1286  [Development - FullStack, Development - Backend]   \n",
       "\n",
       "     technical_interview_score code_challenge_score  email_count  \n",
       "93                      [2, 8]               [6, 5]            2  \n",
       "420                     [2, 3]              [7, 10]            2  \n",
       "1137                    [2, 1]               [7, 9]            2  \n",
       "1163                    [4, 9]               [0, 2]            2  \n",
       "1286                   [9, 10]               [2, 6]            2  "
      ]
     },
     "execution_count": 25,
     "metadata": {},
     "output_type": "execute_result"
    }
   ],
   "source": [
    "grouped_df.head()"
   ]
  },
  {
   "cell_type": "markdown",
   "metadata": {},
   "source": [
    "We found 165 records in which emails have been repeated at least 2 times.\n",
    "\n",
    "Now, let's find out how many candidates in this situation changed technology in specified at least 1 time. This will give us an idea of the percentage to change of technology among applications as candidate."
   ]
  },
  {
   "cell_type": "code",
   "execution_count": 26,
   "metadata": {},
   "outputs": [],
   "source": [
    "def has_unique_technologies(technology_list):\n",
    "    \"\"\"Check if there are distinct repeated technologies\"\"\"\n",
    "    return len(set(technology_list)) == len(technology_list)\n",
    "\n",
    "grouped_df['has_unique_technologies'] = grouped_df['technology'].apply(has_unique_technologies)"
   ]
  },
  {
   "cell_type": "code",
   "execution_count": 27,
   "metadata": {},
   "outputs": [
    {
     "data": {
      "text/plain": [
       "has_unique_technologies\n",
       "True     159\n",
       "False      6\n",
       "Name: count, dtype: int64"
      ]
     },
     "execution_count": 27,
     "metadata": {},
     "output_type": "execute_result"
    }
   ],
   "source": [
    "grouped_df['has_unique_technologies'].value_counts()"
   ]
  },
  {
   "cell_type": "markdown",
   "metadata": {},
   "source": [
    "Although the data has random origin, it's interesting 159 (96.36%) of 165 had changed technology by the time they applied."
   ]
  },
  {
   "cell_type": "markdown",
   "metadata": {},
   "source": [
    "#### 4. Just a matter of time\n",
    "Let's go deeper on applicant_date column."
   ]
  },
  {
   "cell_type": "code",
   "execution_count": 28,
   "metadata": {},
   "outputs": [],
   "source": [
    "raw_data_dataframe['applicant_date'] = pd.to_datetime(raw_data_dataframe['applicant_date'], format='mixed')\n",
    "raw_data_dataframe['applicant_year'] = raw_data_dataframe['applicant_date'].dt.year\n",
    "raw_data_dataframe['applicant_month_name'] = raw_data_dataframe['applicant_date'].dt.month_name()\n",
    "raw_data_dataframe['applicant_month'] = raw_data_dataframe['applicant_date'].dt.month"
   ]
  },
  {
   "cell_type": "code",
   "execution_count": 29,
   "metadata": {},
   "outputs": [
    {
     "data": {
      "text/plain": [
       "applicant_year\n",
       "2020    11237\n",
       "2018    11061\n",
       "2021    11051\n",
       "2019    11009\n",
       "2022     5642\n",
       "Name: count, dtype: int64"
      ]
     },
     "execution_count": 29,
     "metadata": {},
     "output_type": "execute_result"
    }
   ],
   "source": [
    "raw_data_dataframe['applicant_year'].value_counts()"
   ]
  },
  {
   "cell_type": "code",
   "execution_count": 30,
   "metadata": {},
   "outputs": [
    {
     "data": {
      "text/plain": [
       "applicant_month_name\n",
       "May          4752\n",
       "March        4649\n",
       "January      4618\n",
       "June         4566\n",
       "April        4542\n",
       "February     4285\n",
       "July         3996\n",
       "October      3813\n",
       "August       3783\n",
       "December     3777\n",
       "September    3610\n",
       "November     3609\n",
       "Name: count, dtype: int64"
      ]
     },
     "execution_count": 30,
     "metadata": {},
     "output_type": "execute_result"
    }
   ],
   "source": [
    "raw_data_dataframe['applicant_month_name'].value_counts()"
   ]
  },
  {
   "cell_type": "markdown",
   "metadata": {},
   "source": [
    "### Let's load this dataframe to applicant table in PostgreSQL"
   ]
  },
  {
   "cell_type": "code",
   "execution_count": 31,
   "metadata": {},
   "outputs": [],
   "source": [
    "raw_data_dataframe.to_sql('applicant', connection.engine, if_exists='replace', index=False)\n",
    "connection.log('Data loaded to {}: {} rows - {} columns.' .format('applicant', raw_data_dataframe.shape[0], raw_data_dataframe.shape[1]))"
   ]
  },
  {
   "cell_type": "code",
   "execution_count": 32,
   "metadata": {},
   "outputs": [],
   "source": [
    "connection.close_connection()"
   ]
  },
  {
   "cell_type": "markdown",
   "metadata": {},
   "source": [
    "### Conclusion\n",
    "\n",
    "Some insights about this exploration and conclusions:\n",
    "\n",
    "- Column removed due to its assigning automately by SQLAlchemy:\n",
    "\n",
    "    - _sa_instance_state\n",
    "\n",
    "- 10 columns to 16 columns loaded in **applicant** table in the database.\n",
    "\n",
    "- 24 technologies were grouped into 8.\n",
    "\n",
    "- 165 candidates have submitted a minimum of two applications.\n",
    "\n",
    "- 13.4% of candidates are will be hired."
   ]
  },
  {
   "cell_type": "markdown",
   "metadata": {},
   "source": [
    "Data loaded:\n",
    "\n",
    "![Applicant data](https://gist.github.com/assets/92474551/13086343-0d5b-4829-84c6-05d1c57d00b9)"
   ]
  }
 ],
 "metadata": {
  "kernelspec": {
   "display_name": "Python 3 (ipykernel)",
   "language": "python",
   "name": "python3"
  },
  "language_info": {
   "codemirror_mode": {
    "name": "ipython",
    "version": 3
   },
   "file_extension": ".py",
   "mimetype": "text/x-python",
   "name": "python",
   "nbconvert_exporter": "python",
   "pygments_lexer": "ipython3",
   "version": "3.10.3"
  }
 },
 "nbformat": 4,
 "nbformat_minor": 2
}
