{
 "cells": [
  {
   "cell_type": "markdown",
   "metadata": {},
   "source": [
    "In this file I create:\n",
    "\n",
    "1. The connection between PostgreSQL and Python\n",
    "\n",
    "2. The database called **etl_workshop_first**.\n",
    "\n",
    "3. Two tables with its properties: **raw_applicant** and **applicant**."
   ]
  },
  {
   "cell_type": "code",
   "execution_count": 23,
   "metadata": {
    "vscode": {
     "languageId": "bat"
    }
   },
   "outputs": [
    {
     "name": "stdout",
     "output_type": "stream",
     "text": [
      "Requirement already satisfied: psycopg2-binary in c:\\python312\\lib\\site-packages (from -r code/requirements.txt (line 1)) (2.9.9)\n",
      "Requirement already satisfied: sqlalchemy in c:\\python312\\lib\\site-packages (from -r code/requirements.txt (line 2)) (2.0.25)\n",
      "Requirement already satisfied: numpy in c:\\python312\\lib\\site-packages (from -r code/requirements.txt (line 3)) (1.26.3)\n",
      "Requirement already satisfied: pyarrow in c:\\python312\\lib\\site-packages (from -r code/requirements.txt (line 4)) (15.0.0)\n",
      "Requirement already satisfied: pandas in c:\\python312\\lib\\site-packages (from -r code/requirements.txt (line 5)) (2.2.0)\n",
      "Requirement already satisfied: typing-extensions>=4.6.0 in c:\\python312\\lib\\site-packages (from sqlalchemy->-r code/requirements.txt (line 2)) (4.9.0)\n",
      "Requirement already satisfied: greenlet!=0.4.17 in c:\\python312\\lib\\site-packages (from sqlalchemy->-r code/requirements.txt (line 2)) (3.0.3)\n",
      "Requirement already satisfied: python-dateutil>=2.8.2 in c:\\users\\david\\appdata\\roaming\\python\\python312\\site-packages (from pandas->-r code/requirements.txt (line 5)) (2.8.2)\n",
      "Requirement already satisfied: pytz>=2020.1 in c:\\python312\\lib\\site-packages (from pandas->-r code/requirements.txt (line 5)) (2024.1)\n",
      "Requirement already satisfied: tzdata>=2022.7 in c:\\python312\\lib\\site-packages (from pandas->-r code/requirements.txt (line 5)) (2023.4)\n",
      "Requirement already satisfied: six>=1.5 in c:\\users\\david\\appdata\\roaming\\python\\python312\\site-packages (from python-dateutil>=2.8.2->pandas->-r code/requirements.txt (line 5)) (1.16.0)\n",
      "Note: you may need to restart the kernel to use updated packages.\n"
     ]
    },
    {
     "name": "stderr",
     "output_type": "stream",
     "text": [
      "\n",
      "[notice] A new release of pip is available: 23.2.1 -> 23.3.2\n",
      "[notice] To update, run: python.exe -m pip install --upgrade pip\n"
     ]
    }
   ],
   "source": [
    "pip install -r code/requirements.txt"
   ]
  },
  {
   "cell_type": "markdown",
   "metadata": {},
   "source": [
    "Import libraries:"
   ]
  },
  {
   "cell_type": "code",
   "execution_count": 24,
   "metadata": {},
   "outputs": [],
   "source": [
    "import pandas as pd\n",
    "import numpy as np\n",
    "from sqlalchemy import create_engine\n",
    "\n",
    "from code.connect_database import Connection_Postgres"
   ]
  },
  {
   "cell_type": "markdown",
   "metadata": {},
   "source": [
    "## Let's know the table\n",
    "This table has 50.000 rows and 10 columns."
   ]
  },
  {
   "cell_type": "code",
   "execution_count": 25,
   "metadata": {},
   "outputs": [],
   "source": [
    "# Create connection with PostgreSQL\n",
    "connection = Connection_Postgres()\n",
    "cursor = connection.connection.cursor()\n",
    "# Consult data\n",
    "query_to_do = \"SELECT first_name, last_name, email, applicant_date, country, experience_year, seniority, technology, code_challenge_score, technical_interview_score FROM raw_applicant\"\n",
    "cursor.execute(query_to_do)\n",
    "record_table = cursor.fetchall()\n",
    "# Get column names\n",
    "column_names = [desc[0] for desc in cursor.description]\n",
    "# Create dataframe\n",
    "dataframe = pd.DataFrame(record_table, columns=column_names)\n",
    "# Create connection with engine\n",
    "connection_string = f\"postgresql://{connection.connection_config['user']}:{connection.connection_config['password']}@{connection.connection_config['host']}:{connection.connection_config['port']}/{connection.connection_config['database']}\"\n",
    "postgres_engine = create_engine(connection_string)\n",
    "# Close connection\n",
    "connection.close_connection_database()"
   ]
  },
  {
   "cell_type": "code",
   "execution_count": 26,
   "metadata": {},
   "outputs": [
    {
     "name": "stdout",
     "output_type": "stream",
     "text": [
      "<class 'pandas.core.frame.DataFrame'>\n",
      "RangeIndex: 50000 entries, 0 to 49999\n",
      "Data columns (total 10 columns):\n",
      " #   Column                     Non-Null Count  Dtype \n",
      "---  ------                     --------------  ----- \n",
      " 0   first_name                 50000 non-null  object\n",
      " 1   last_name                  50000 non-null  object\n",
      " 2   email                      50000 non-null  object\n",
      " 3   applicant_date             50000 non-null  object\n",
      " 4   country                    50000 non-null  object\n",
      " 5   experience_year            50000 non-null  int64 \n",
      " 6   seniority                  50000 non-null  object\n",
      " 7   technology                 50000 non-null  object\n",
      " 8   code_challenge_score       50000 non-null  int64 \n",
      " 9   technical_interview_score  50000 non-null  int64 \n",
      "dtypes: int64(3), object(7)\n",
      "memory usage: 3.8+ MB\n"
     ]
    }
   ],
   "source": [
    "# Check info\n",
    "dataframe.info()"
   ]
  },
  {
   "cell_type": "markdown",
   "metadata": {},
   "source": [
    "Describing the table:"
   ]
  },
  {
   "cell_type": "code",
   "execution_count": 27,
   "metadata": {},
   "outputs": [
    {
     "data": {
      "text/html": [
       "<div>\n",
       "<style scoped>\n",
       "    .dataframe tbody tr th:only-of-type {\n",
       "        vertical-align: middle;\n",
       "    }\n",
       "\n",
       "    .dataframe tbody tr th {\n",
       "        vertical-align: top;\n",
       "    }\n",
       "\n",
       "    .dataframe thead th {\n",
       "        text-align: right;\n",
       "    }\n",
       "</style>\n",
       "<table border=\"1\" class=\"dataframe\">\n",
       "  <thead>\n",
       "    <tr style=\"text-align: right;\">\n",
       "      <th></th>\n",
       "      <th>experience_year</th>\n",
       "      <th>code_challenge_score</th>\n",
       "      <th>technical_interview_score</th>\n",
       "    </tr>\n",
       "  </thead>\n",
       "  <tbody>\n",
       "    <tr>\n",
       "      <th>count</th>\n",
       "      <td>50000.000000</td>\n",
       "      <td>50000.000000</td>\n",
       "      <td>50000.000000</td>\n",
       "    </tr>\n",
       "    <tr>\n",
       "      <th>mean</th>\n",
       "      <td>15.286980</td>\n",
       "      <td>4.996400</td>\n",
       "      <td>5.003880</td>\n",
       "    </tr>\n",
       "    <tr>\n",
       "      <th>std</th>\n",
       "      <td>8.830652</td>\n",
       "      <td>3.166896</td>\n",
       "      <td>3.165082</td>\n",
       "    </tr>\n",
       "    <tr>\n",
       "      <th>min</th>\n",
       "      <td>0.000000</td>\n",
       "      <td>0.000000</td>\n",
       "      <td>0.000000</td>\n",
       "    </tr>\n",
       "    <tr>\n",
       "      <th>25%</th>\n",
       "      <td>8.000000</td>\n",
       "      <td>2.000000</td>\n",
       "      <td>2.000000</td>\n",
       "    </tr>\n",
       "    <tr>\n",
       "      <th>50%</th>\n",
       "      <td>15.000000</td>\n",
       "      <td>5.000000</td>\n",
       "      <td>5.000000</td>\n",
       "    </tr>\n",
       "    <tr>\n",
       "      <th>75%</th>\n",
       "      <td>23.000000</td>\n",
       "      <td>8.000000</td>\n",
       "      <td>8.000000</td>\n",
       "    </tr>\n",
       "    <tr>\n",
       "      <th>max</th>\n",
       "      <td>30.000000</td>\n",
       "      <td>10.000000</td>\n",
       "      <td>10.000000</td>\n",
       "    </tr>\n",
       "  </tbody>\n",
       "</table>\n",
       "</div>"
      ],
      "text/plain": [
       "       experience_year  code_challenge_score  technical_interview_score\n",
       "count     50000.000000          50000.000000               50000.000000\n",
       "mean         15.286980              4.996400                   5.003880\n",
       "std           8.830652              3.166896                   3.165082\n",
       "min           0.000000              0.000000                   0.000000\n",
       "25%           8.000000              2.000000                   2.000000\n",
       "50%          15.000000              5.000000                   5.000000\n",
       "75%          23.000000              8.000000                   8.000000\n",
       "max          30.000000             10.000000                  10.000000"
      ]
     },
     "execution_count": 27,
     "metadata": {},
     "output_type": "execute_result"
    }
   ],
   "source": [
    "# Describe data\n",
    "dataframe.describe()"
   ]
  },
  {
   "cell_type": "markdown",
   "metadata": {},
   "source": [
    "Checking for NaN values that I couldn't see"
   ]
  },
  {
   "cell_type": "code",
   "execution_count": 28,
   "metadata": {},
   "outputs": [
    {
     "data": {
      "text/plain": [
       "first_name                   0\n",
       "last_name                    0\n",
       "email                        0\n",
       "applicant_date               0\n",
       "country                      0\n",
       "experience_year              0\n",
       "seniority                    0\n",
       "technology                   0\n",
       "code_challenge_score         0\n",
       "technical_interview_score    0\n",
       "dtype: int64"
      ]
     },
     "execution_count": 28,
     "metadata": {},
     "output_type": "execute_result"
    }
   ],
   "source": [
    "dataframe.isna().sum()"
   ]
  },
  {
   "cell_type": "markdown",
   "metadata": {},
   "source": [
    "Checking values for each column of table"
   ]
  },
  {
   "cell_type": "code",
   "execution_count": 29,
   "metadata": {},
   "outputs": [
    {
     "name": "stdout",
     "output_type": "stream",
     "text": [
      "first_name\n",
      "Sarai        33\n",
      "Elyse        32\n",
      "Eva          31\n",
      "Anabel       31\n",
      "Nayeli       30\n",
      "             ..\n",
      "Marie         6\n",
      "Janis         6\n",
      "Antonetta     5\n",
      "Paul          5\n",
      "Gudrun        5\n",
      "Name: count, Length: 3007, dtype: int64\n",
      "----------\n",
      "last_name\n",
      "Murazik       138\n",
      "Nitzsche      134\n",
      "Lang          133\n",
      "Metz          133\n",
      "Harvey        133\n",
      "             ... \n",
      "Rutherford     83\n",
      "Howe           82\n",
      "White          79\n",
      "McClure        78\n",
      "Bechtelar      76\n",
      "Name: count, Length: 474, dtype: int64\n",
      "----------\n",
      "email\n",
      "marianne31@yahoo.com              3\n",
      "fern70@gmail.com                  3\n",
      "benny35@yahoo.com                 2\n",
      "easter75@gmail.com                2\n",
      "natalie51@hotmail.com             2\n",
      "                                 ..\n",
      "jett.runolfsson@yahoo.com         1\n",
      "adaline_powlowski@hotmail.com     1\n",
      "ariel93@hotmail.com               1\n",
      "magdalen.ankunding17@yahoo.com    1\n",
      "pattie92@gmail.com                1\n",
      "Name: count, Length: 49833, dtype: int64\n",
      "----------\n",
      "applicant_date\n",
      "2020-07-07    50\n",
      "2018-12-06    48\n",
      "2020-07-18    47\n",
      "2020-10-12    47\n",
      "2020-10-02    47\n",
      "              ..\n",
      "2020-07-09    17\n",
      "2020-05-03    16\n",
      "2019-08-31    16\n",
      "2019-03-27    15\n",
      "2022-01-08    14\n",
      "Name: count, Length: 1646, dtype: int64\n",
      "----------\n",
      "country\n",
      "Malawi                          242\n",
      "Spain                           238\n",
      "Cook Islands                    234\n",
      "Svalbard & Jan Mayen Islands    234\n",
      "Netherlands Antilles            234\n",
      "                               ... \n",
      "Cape Verde                      172\n",
      "Libyan Arab Jamahiriya          172\n",
      "Isle of Man                     170\n",
      "Tanzania                        165\n",
      "Cocos (Keeling) Islands         164\n",
      "Name: count, Length: 244, dtype: int64\n",
      "----------\n",
      "experience_year\n",
      "24    1720\n",
      "7     1699\n",
      "5     1692\n",
      "16    1692\n",
      "29    1677\n",
      "2     1676\n",
      "28    1676\n",
      "23    1675\n",
      "22    1671\n",
      "30    1665\n",
      "4     1664\n",
      "9     1662\n",
      "25    1660\n",
      "26    1659\n",
      "3     1637\n",
      "11    1632\n",
      "10    1623\n",
      "18    1621\n",
      "19    1617\n",
      "21    1614\n",
      "8     1612\n",
      "15    1612\n",
      "1     1608\n",
      "13    1607\n",
      "14    1601\n",
      "12    1600\n",
      "27    1596\n",
      "6     1589\n",
      "20    1585\n",
      "17    1579\n",
      "0      779\n",
      "Name: count, dtype: int64\n",
      "----------\n",
      "seniority\n",
      "Intern       7255\n",
      "Mid-Level    7253\n",
      "Trainee      7183\n",
      "Junior       7100\n",
      "Architect    7079\n",
      "Lead         7071\n",
      "Senior       7059\n",
      "Name: count, dtype: int64\n",
      "----------\n",
      "technology\n",
      "Game Development                           3818\n",
      "DevOps                                     3808\n",
      "Social Media Community Management          2028\n",
      "System Administration                      2014\n",
      "Mulesoft                                   1973\n",
      "Development - Backend                      1965\n",
      "Development - FullStack                    1961\n",
      "Adobe Experience Manager                   1954\n",
      "Data Engineer                              1951\n",
      "Security                                   1936\n",
      "Development - CMS Frontend                 1934\n",
      "Business Intelligence                      1934\n",
      "Database Administration                    1933\n",
      "Client Success                             1927\n",
      "Design                                     1906\n",
      "QA Manual                                  1902\n",
      "Technical Writing                          1901\n",
      "QA Automation                              1892\n",
      "Sales                                      1890\n",
      "Development - Frontend                     1887\n",
      "Development - CMS Backend                  1882\n",
      "Business Analytics / Project Management    1878\n",
      "Salesforce                                 1874\n",
      "Security Compliance                        1852\n",
      "Name: count, dtype: int64\n",
      "----------\n",
      "code_challenge_score\n",
      "3     4678\n",
      "8     4619\n",
      "1     4590\n",
      "10    4588\n",
      "2     4579\n",
      "4     4521\n",
      "9     4519\n",
      "7     4506\n",
      "0     4502\n",
      "5     4479\n",
      "6     4419\n",
      "Name: count, dtype: int64\n",
      "----------\n",
      "technical_interview_score\n",
      "9     4597\n",
      "1     4588\n",
      "4     4578\n",
      "7     4578\n",
      "8     4555\n",
      "0     4539\n",
      "10    4539\n",
      "3     4528\n",
      "5     4527\n",
      "2     4500\n",
      "6     4471\n",
      "Name: count, dtype: int64\n",
      "----------\n"
     ]
    }
   ],
   "source": [
    "for column in dataframe.columns:\n",
    "    print(dataframe[column].value_counts())\n",
    "    print(\"-\"*10)"
   ]
  },
  {
   "cell_type": "markdown",
   "metadata": {},
   "source": [
    "I see that in two score columns (code_challenge_score and technical_interview_score) have values among 0 and 10, where 10 is the maximum qualitification."
   ]
  },
  {
   "cell_type": "markdown",
   "metadata": {},
   "source": [
    "#### Time analysis\n",
    "Let's go deeper on applicant_date column."
   ]
  },
  {
   "cell_type": "code",
   "execution_count": 30,
   "metadata": {},
   "outputs": [],
   "source": [
    "dataframe['applicant_date'] = pd.to_datetime(dataframe['applicant_date'], format='mixed')\n",
    "dataframe['applicant_year'] = dataframe['applicant_date'].dt.year\n",
    "dataframe['applicant_month_name'] = dataframe['applicant_date'].dt.month_name()\n",
    "dataframe['applicant_month'] = dataframe['applicant_date'].dt.month"
   ]
  },
  {
   "cell_type": "code",
   "execution_count": 31,
   "metadata": {},
   "outputs": [
    {
     "data": {
      "text/plain": [
       "applicant_year\n",
       "2020    11237\n",
       "2018    11061\n",
       "2021    11051\n",
       "2019    11009\n",
       "2022     5642\n",
       "Name: count, dtype: int64"
      ]
     },
     "execution_count": 31,
     "metadata": {},
     "output_type": "execute_result"
    }
   ],
   "source": [
    "dataframe['applicant_year'].value_counts()"
   ]
  },
  {
   "cell_type": "code",
   "execution_count": 32,
   "metadata": {},
   "outputs": [
    {
     "data": {
      "text/plain": [
       "applicant_month_name\n",
       "May          4752\n",
       "March        4649\n",
       "January      4618\n",
       "June         4566\n",
       "April        4542\n",
       "February     4285\n",
       "July         3996\n",
       "October      3813\n",
       "August       3783\n",
       "December     3777\n",
       "September    3610\n",
       "November     3609\n",
       "Name: count, dtype: int64"
      ]
     },
     "execution_count": 32,
     "metadata": {},
     "output_type": "execute_result"
    }
   ],
   "source": [
    "dataframe['applicant_month_name'].value_counts()"
   ]
  },
  {
   "cell_type": "markdown",
   "metadata": {},
   "source": [
    "### Let's create the new column of is hiring or not\n",
    "I take code_challenge_score and technical_interview_score for this."
   ]
  },
  {
   "cell_type": "code",
   "execution_count": 33,
   "metadata": {},
   "outputs": [],
   "source": [
    "dataframe['is_hire'] = np.where((dataframe['code_challenge_score'] >= 7) & (dataframe['technical_interview_score'] >= 7), 1, 0)"
   ]
  },
  {
   "cell_type": "markdown",
   "metadata": {},
   "source": [
    "### Let's load this dataframe to applicant table in PostgreSQL"
   ]
  },
  {
   "cell_type": "code",
   "execution_count": 34,
   "metadata": {},
   "outputs": [],
   "source": [
    "# Load data obtained to PostgreSQL\n",
    "dataframe.to_sql('applicant', postgres_engine, if_exists='replace', index=False)\n",
    "connection.log('Data loaded to {}: {} rows - {} columns.' .format('applicant', dataframe.shape[0], dataframe.shape[1]))"
   ]
  },
  {
   "cell_type": "markdown",
   "metadata": {},
   "source": []
  }
 ],
 "metadata": {
  "kernelspec": {
   "display_name": "Python 3",
   "language": "python",
   "name": "python3"
  },
  "language_info": {
   "codemirror_mode": {
    "name": "ipython",
    "version": 3
   },
   "file_extension": ".py",
   "mimetype": "text/x-python",
   "name": "python",
   "nbconvert_exporter": "python",
   "pygments_lexer": "ipython3",
   "version": "3.12.1"
  }
 },
 "nbformat": 4,
 "nbformat_minor": 2
}
