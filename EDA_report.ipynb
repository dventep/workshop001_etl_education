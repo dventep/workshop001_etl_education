{
 "cells": [
  {
   "cell_type": "markdown",
   "metadata": {},
   "source": [
    "In this file I create:\n",
    "\n",
    "1. The connection between PostgreSQL and Python\n",
    "\n",
    "2. The database called **etl_workshop_first**.\n",
    "\n",
    "3. Two tables with its properties: **raw_applicant** and **applicant**."
   ]
  },
  {
   "cell_type": "code",
   "execution_count": null,
   "metadata": {},
   "outputs": [],
   "source": []
  }
 ],
 "metadata": {
  "language_info": {
   "name": "python"
  }
 },
 "nbformat": 4,
 "nbformat_minor": 2
}
